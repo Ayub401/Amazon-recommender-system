{
 "cells": [
  {
   "cell_type": "code",
   "execution_count": 86,
   "id": "429ac93d",
   "metadata": {},
   "outputs": [
    {
     "data": {
      "text/html": [
       "<style>.container { width:90% !important; }</style>"
      ],
      "text/plain": [
       "<IPython.core.display.HTML object>"
      ]
     },
     "metadata": {},
     "output_type": "display_data"
    }
   ],
   "source": [
    "from IPython.core.display import display, HTML\n",
    "display(HTML(\"<style>.container { width:90% !important; }</style>\"))"
   ]
  },
  {
   "cell_type": "code",
   "execution_count": 2,
   "id": "a93ab13e",
   "metadata": {},
   "outputs": [],
   "source": [
    "import numpy as np\n",
    "import pandas as pd"
   ]
  },
  {
   "cell_type": "code",
   "execution_count": 3,
   "id": "be7c7b2e",
   "metadata": {},
   "outputs": [],
   "source": [
    "Data_df = pd.read_json(\"/Users/ayubansari/Downloads/AAIC Amazon Apparel Recommendation Engine/misc_files/tops_fashion.json\")"
   ]
  },
  {
   "cell_type": "code",
   "execution_count": 4,
   "id": "b42108f4",
   "metadata": {},
   "outputs": [
    {
     "data": {
      "text/plain": [
       "(183138, 19)"
      ]
     },
     "execution_count": 4,
     "metadata": {},
     "output_type": "execute_result"
    }
   ],
   "source": [
    "# return a tuple (column, row)\n",
    "Data_df.shape"
   ]
  },
  {
   "cell_type": "code",
   "execution_count": 5,
   "id": "f4aa8934",
   "metadata": {},
   "outputs": [
    {
     "data": {
      "text/plain": [
       "183138"
      ]
     },
     "execution_count": 5,
     "metadata": {},
     "output_type": "execute_result"
    }
   ],
   "source": [
    "# number of row\n",
    "Data_df.shape[0]"
   ]
  },
  {
   "cell_type": "code",
   "execution_count": 6,
   "id": "681e9c21",
   "metadata": {},
   "outputs": [
    {
     "data": {
      "text/plain": [
       "19"
      ]
     },
     "execution_count": 6,
     "metadata": {},
     "output_type": "execute_result"
    }
   ],
   "source": [
    "# number of column\n",
    "Data_df.shape[1]"
   ]
  },
  {
   "cell_type": "code",
   "execution_count": 7,
   "id": "2d2dea77",
   "metadata": {},
   "outputs": [
    {
     "data": {
      "text/html": [
       "<div>\n",
       "<style scoped>\n",
       "    .dataframe tbody tr th:only-of-type {\n",
       "        vertical-align: middle;\n",
       "    }\n",
       "\n",
       "    .dataframe tbody tr th {\n",
       "        vertical-align: top;\n",
       "    }\n",
       "\n",
       "    .dataframe thead th {\n",
       "        text-align: right;\n",
       "    }\n",
       "</style>\n",
       "<table border=\"1\" class=\"dataframe\">\n",
       "  <thead>\n",
       "    <tr style=\"text-align: right;\">\n",
       "      <th></th>\n",
       "      <th>sku</th>\n",
       "      <th>asin</th>\n",
       "      <th>product_type_name</th>\n",
       "      <th>formatted_price</th>\n",
       "      <th>author</th>\n",
       "      <th>color</th>\n",
       "      <th>brand</th>\n",
       "      <th>publisher</th>\n",
       "      <th>availability</th>\n",
       "      <th>reviews</th>\n",
       "      <th>large_image_url</th>\n",
       "      <th>availability_type</th>\n",
       "      <th>small_image_url</th>\n",
       "      <th>editorial_review</th>\n",
       "      <th>title</th>\n",
       "      <th>model</th>\n",
       "      <th>medium_image_url</th>\n",
       "      <th>manufacturer</th>\n",
       "      <th>editorial_reivew</th>\n",
       "    </tr>\n",
       "  </thead>\n",
       "  <tbody>\n",
       "    <tr>\n",
       "      <th>0</th>\n",
       "      <td>None</td>\n",
       "      <td>B016I2TS4W</td>\n",
       "      <td>SHIRT</td>\n",
       "      <td>None</td>\n",
       "      <td>None</td>\n",
       "      <td>None</td>\n",
       "      <td>FNC7C</td>\n",
       "      <td>None</td>\n",
       "      <td>None</td>\n",
       "      <td>[False, https://www.amazon.com/reviews/iframe?...</td>\n",
       "      <td>https://images-na.ssl-images-amazon.com/images...</td>\n",
       "      <td>None</td>\n",
       "      <td>https://images-na.ssl-images-amazon.com/images...</td>\n",
       "      <td>Minions Como Superheroes Ironman Women's O Nec...</td>\n",
       "      <td>Minions Como Superheroes Ironman Long Sleeve R...</td>\n",
       "      <td>None</td>\n",
       "      <td>https://images-na.ssl-images-amazon.com/images...</td>\n",
       "      <td>None</td>\n",
       "      <td>NaN</td>\n",
       "    </tr>\n",
       "  </tbody>\n",
       "</table>\n",
       "</div>"
      ],
      "text/plain": [
       "    sku        asin product_type_name formatted_price author color  brand  \\\n",
       "0  None  B016I2TS4W             SHIRT            None   None  None  FNC7C   \n",
       "\n",
       "  publisher availability                                            reviews  \\\n",
       "0      None         None  [False, https://www.amazon.com/reviews/iframe?...   \n",
       "\n",
       "                                     large_image_url availability_type  \\\n",
       "0  https://images-na.ssl-images-amazon.com/images...              None   \n",
       "\n",
       "                                     small_image_url  \\\n",
       "0  https://images-na.ssl-images-amazon.com/images...   \n",
       "\n",
       "                                    editorial_review  \\\n",
       "0  Minions Como Superheroes Ironman Women's O Nec...   \n",
       "\n",
       "                                               title model  \\\n",
       "0  Minions Como Superheroes Ironman Long Sleeve R...  None   \n",
       "\n",
       "                                    medium_image_url manufacturer  \\\n",
       "0  https://images-na.ssl-images-amazon.com/images...         None   \n",
       "\n",
       "  editorial_reivew  \n",
       "0              NaN  "
      ]
     },
     "execution_count": 7,
     "metadata": {},
     "output_type": "execute_result"
    }
   ],
   "source": [
    "Data_df.head(1)"
   ]
  },
  {
   "cell_type": "code",
   "execution_count": 8,
   "id": "a15cb30a",
   "metadata": {},
   "outputs": [
    {
     "data": {
      "text/plain": [
       "Index(['sku', 'asin', 'product_type_name', 'formatted_price', 'author',\n",
       "       'color', 'brand', 'publisher', 'availability', 'reviews',\n",
       "       'large_image_url', 'availability_type', 'small_image_url',\n",
       "       'editorial_review', 'title', 'model', 'medium_image_url',\n",
       "       'manufacturer', 'editorial_reivew'],\n",
       "      dtype='object')"
      ]
     },
     "execution_count": 8,
     "metadata": {},
     "output_type": "execute_result"
    }
   ],
   "source": [
    "# check all the available column in the data set.\n",
    "Data_df.columns"
   ]
  },
  {
   "cell_type": "code",
   "execution_count": 9,
   "id": "980036dd",
   "metadata": {},
   "outputs": [],
   "source": [
    "data = Data_df[['asin', 'brand', 'color', 'medium_image_url', \n",
    "             'product_type_name', 'title', 'formatted_price']]"
   ]
  },
  {
   "cell_type": "code",
   "execution_count": 10,
   "id": "4717672f",
   "metadata": {},
   "outputs": [
    {
     "data": {
      "text/html": [
       "<div>\n",
       "<style scoped>\n",
       "    .dataframe tbody tr th:only-of-type {\n",
       "        vertical-align: middle;\n",
       "    }\n",
       "\n",
       "    .dataframe tbody tr th {\n",
       "        vertical-align: top;\n",
       "    }\n",
       "\n",
       "    .dataframe thead th {\n",
       "        text-align: right;\n",
       "    }\n",
       "</style>\n",
       "<table border=\"1\" class=\"dataframe\">\n",
       "  <thead>\n",
       "    <tr style=\"text-align: right;\">\n",
       "      <th></th>\n",
       "      <th>asin</th>\n",
       "      <th>brand</th>\n",
       "      <th>color</th>\n",
       "      <th>medium_image_url</th>\n",
       "      <th>product_type_name</th>\n",
       "      <th>title</th>\n",
       "      <th>formatted_price</th>\n",
       "    </tr>\n",
       "  </thead>\n",
       "  <tbody>\n",
       "    <tr>\n",
       "      <th>count</th>\n",
       "      <td>183138</td>\n",
       "      <td>182987</td>\n",
       "      <td>64956</td>\n",
       "      <td>183138</td>\n",
       "      <td>183138</td>\n",
       "      <td>183138</td>\n",
       "      <td>28395</td>\n",
       "    </tr>\n",
       "    <tr>\n",
       "      <th>unique</th>\n",
       "      <td>183138</td>\n",
       "      <td>10577</td>\n",
       "      <td>7380</td>\n",
       "      <td>170782</td>\n",
       "      <td>72</td>\n",
       "      <td>175985</td>\n",
       "      <td>3135</td>\n",
       "    </tr>\n",
       "    <tr>\n",
       "      <th>top</th>\n",
       "      <td>B016I2TS4W</td>\n",
       "      <td>Zago</td>\n",
       "      <td>Black</td>\n",
       "      <td>https://images-na.ssl-images-amazon.com/images...</td>\n",
       "      <td>SHIRT</td>\n",
       "      <td>Nakoda Cotton Self Print Straight Kurti For Women</td>\n",
       "      <td>$19.99</td>\n",
       "    </tr>\n",
       "    <tr>\n",
       "      <th>freq</th>\n",
       "      <td>1</td>\n",
       "      <td>223</td>\n",
       "      <td>13207</td>\n",
       "      <td>23</td>\n",
       "      <td>167794</td>\n",
       "      <td>77</td>\n",
       "      <td>945</td>\n",
       "    </tr>\n",
       "  </tbody>\n",
       "</table>\n",
       "</div>"
      ],
      "text/plain": [
       "              asin   brand  color  \\\n",
       "count       183138  182987  64956   \n",
       "unique      183138   10577   7380   \n",
       "top     B016I2TS4W    Zago  Black   \n",
       "freq             1     223  13207   \n",
       "\n",
       "                                         medium_image_url product_type_name  \\\n",
       "count                                              183138            183138   \n",
       "unique                                             170782                72   \n",
       "top     https://images-na.ssl-images-amazon.com/images...             SHIRT   \n",
       "freq                                                   23            167794   \n",
       "\n",
       "                                                    title formatted_price  \n",
       "count                                              183138           28395  \n",
       "unique                                             175985            3135  \n",
       "top     Nakoda Cotton Self Print Straight Kurti For Women          $19.99  \n",
       "freq                                                   77             945  "
      ]
     },
     "execution_count": 10,
     "metadata": {},
     "output_type": "execute_result"
    }
   ],
   "source": [
    "data.describe()"
   ]
  },
  {
   "cell_type": "code",
   "execution_count": 11,
   "id": "a440a45c",
   "metadata": {},
   "outputs": [
    {
     "name": "stdout",
     "output_type": "stream",
     "text": [
      "count     183138\n",
      "unique        72\n",
      "top        SHIRT\n",
      "freq      167794\n",
      "Name: product_type_name, dtype: object\n"
     ]
    }
   ],
   "source": [
    "print(data['product_type_name'].describe())"
   ]
  },
  {
   "cell_type": "code",
   "execution_count": 12,
   "id": "39fce865",
   "metadata": {},
   "outputs": [
    {
     "name": "stdout",
     "output_type": "stream",
     "text": [
      "['SHIRT' 'SWEATER' 'APPAREL' 'OUTDOOR_RECREATION_PRODUCT'\n",
      " 'BOOKS_1973_AND_LATER' 'PANTS' 'HAT' 'SPORTING_GOODS' 'DRESS' 'UNDERWEAR'\n",
      " 'SKIRT' 'OUTERWEAR' 'BRA' 'ACCESSORY' 'ART_SUPPLIES' 'SLEEPWEAR'\n",
      " 'ORCA_SHIRT' 'HANDBAG' 'PET_SUPPLIES' 'SHOES' 'KITCHEN' 'ADULT_COSTUME'\n",
      " 'HOME_BED_AND_BATH' 'MISC_OTHER' 'BLAZER' 'HEALTH_PERSONAL_CARE'\n",
      " 'TOYS_AND_GAMES' 'SWIMWEAR' 'CONSUMER_ELECTRONICS' 'SHORTS' 'HOME'\n",
      " 'AUTO_PART' 'OFFICE_PRODUCTS' 'ETHNIC_WEAR' 'BEAUTY'\n",
      " 'INSTRUMENT_PARTS_AND_ACCESSORIES' 'POWERSPORTS_PROTECTIVE_GEAR' 'SHIRTS'\n",
      " 'ABIS_APPAREL' 'AUTO_ACCESSORY' 'NONAPPARELMISC' 'TOOLS' 'BABY_PRODUCT'\n",
      " 'SOCKSHOSIERY' 'POWERSPORTS_RIDING_SHIRT' 'EYEWEAR' 'SUIT'\n",
      " 'OUTDOOR_LIVING' 'POWERSPORTS_RIDING_JACKET' 'HARDWARE' 'SAFETY_SUPPLY'\n",
      " 'ABIS_DVD' 'VIDEO_DVD' 'GOLF_CLUB' 'MUSIC_POPULAR_VINYL'\n",
      " 'HOME_FURNITURE_AND_DECOR' 'TABLET_COMPUTER' 'GUILD_ACCESSORIES'\n",
      " 'ABIS_SPORTS' 'ART_AND_CRAFT_SUPPLY' 'BAG' 'MECHANICAL_COMPONENTS'\n",
      " 'SOUND_AND_RECORDING_EQUIPMENT' 'COMPUTER_COMPONENT' 'JEWELRY'\n",
      " 'BUILDING_MATERIAL' 'LUGGAGE' 'BABY_COSTUME' 'POWERSPORTS_VEHICLE_PART'\n",
      " 'PROFESSIONAL_HEALTHCARE' 'SEEDS_AND_PLANTS' 'WIRELESS_ACCESSORY']\n"
     ]
    }
   ],
   "source": [
    "print(data['product_type_name'].unique())"
   ]
  },
  {
   "cell_type": "code",
   "execution_count": 13,
   "id": "b95919cc",
   "metadata": {},
   "outputs": [],
   "source": [
    "# examples:\n",
    "\n",
    "from collections import Counter\n",
    "c = Counter([1, 2, 21, 12, 2, 44, 5,\n",
    "              13, 15, 5, 19, 21, 5, 5, 5, 5])\n",
    "# return a dic key is the elemenet of the list and value are the frequency."
   ]
  },
  {
   "cell_type": "code",
   "execution_count": 14,
   "id": "8a9fb107",
   "metadata": {},
   "outputs": [
    {
     "name": "stdout",
     "output_type": "stream",
     "text": [
      "Counter({5: 6, 2: 2, 21: 2, 1: 1, 12: 1, 44: 1, 13: 1, 15: 1, 19: 1})\n"
     ]
    }
   ],
   "source": [
    "print(c)"
   ]
  },
  {
   "cell_type": "code",
   "execution_count": 15,
   "id": "8601a599",
   "metadata": {},
   "outputs": [
    {
     "data": {
      "text/plain": [
       "[(5, 6), (2, 2), (21, 2)]"
      ]
     },
     "execution_count": 15,
     "metadata": {},
     "output_type": "execute_result"
    }
   ],
   "source": [
    "# most common three highest frequency values in the list with their frequency\n",
    "c.most_common(3)"
   ]
  },
  {
   "cell_type": "code",
   "execution_count": 16,
   "id": "f9278a78",
   "metadata": {},
   "outputs": [
    {
     "data": {
      "text/plain": [
       "[('SHIRT', 167794),\n",
       " ('APPAREL', 3549),\n",
       " ('BOOKS_1973_AND_LATER', 3336),\n",
       " ('DRESS', 1584),\n",
       " ('SPORTING_GOODS', 1281),\n",
       " ('SWEATER', 837),\n",
       " ('OUTERWEAR', 796),\n",
       " ('OUTDOOR_RECREATION_PRODUCT', 729),\n",
       " ('ACCESSORY', 636),\n",
       " ('UNDERWEAR', 425)]"
      ]
     },
     "execution_count": 16,
     "metadata": {},
     "output_type": "execute_result"
    }
   ],
   "source": [
    "# find the 10 most frequent product_type_names.\n",
    "product_type_count = Counter(list(data['product_type_name']))\n",
    "product_type_count.most_common(10)"
   ]
  },
  {
   "cell_type": "code",
   "execution_count": 17,
   "id": "11c6ce30",
   "metadata": {},
   "outputs": [
    {
     "name": "stdout",
     "output_type": "stream",
     "text": [
      "count     182987\n",
      "unique     10577\n",
      "top         Zago\n",
      "freq         223\n",
      "Name: brand, dtype: object\n"
     ]
    }
   ],
   "source": [
    "print(data['brand'].describe())"
   ]
  },
  {
   "cell_type": "code",
   "execution_count": 18,
   "id": "a219f87a",
   "metadata": {},
   "outputs": [
    {
     "data": {
      "text/plain": [
       "[('Zago', 223),\n",
       " ('XQS', 222),\n",
       " ('Yayun', 215),\n",
       " ('YUNY', 198),\n",
       " ('XiaoTianXin-women clothes', 193),\n",
       " ('Generic', 192),\n",
       " ('Boohoo', 190),\n",
       " ('Alion', 188),\n",
       " ('Abetteric', 187),\n",
       " ('TheMogan', 187)]"
      ]
     },
     "execution_count": 18,
     "metadata": {},
     "output_type": "execute_result"
    }
   ],
   "source": [
    "brand_count = Counter(list(data['brand']))\n",
    "brand_count.most_common(10)"
   ]
  },
  {
   "cell_type": "code",
   "execution_count": 19,
   "id": "b99c2934",
   "metadata": {},
   "outputs": [
    {
     "name": "stdout",
     "output_type": "stream",
     "text": [
      "count     64956\n",
      "unique     7380\n",
      "top       Black\n",
      "freq      13207\n",
      "Name: color, dtype: object\n"
     ]
    }
   ],
   "source": [
    "print(data['color'].describe())"
   ]
  },
  {
   "cell_type": "code",
   "execution_count": 20,
   "id": "96aeca70",
   "metadata": {},
   "outputs": [
    {
     "data": {
      "text/plain": [
       "[(None, 118182),\n",
       " ('Black', 13207),\n",
       " ('White', 8616),\n",
       " ('Blue', 3570),\n",
       " ('Red', 2289),\n",
       " ('Pink', 1842),\n",
       " ('Grey', 1499),\n",
       " ('*', 1388),\n",
       " ('Green', 1258),\n",
       " ('Multi', 1203)]"
      ]
     },
     "execution_count": 20,
     "metadata": {},
     "output_type": "execute_result"
    }
   ],
   "source": [
    "color_count = Counter(list(data['color']))\n",
    "color_count.most_common(10)"
   ]
  },
  {
   "cell_type": "code",
   "execution_count": 21,
   "id": "0c5caf72",
   "metadata": {},
   "outputs": [
    {
     "name": "stdout",
     "output_type": "stream",
     "text": [
      "count                                                183138\n",
      "unique                                               175985\n",
      "top       Nakoda Cotton Self Print Straight Kurti For Women\n",
      "freq                                                     77\n",
      "Name: title, dtype: object\n"
     ]
    }
   ],
   "source": [
    "print(data['title'].describe())"
   ]
  },
  {
   "cell_type": "code",
   "execution_count": 22,
   "id": "912dc438",
   "metadata": {},
   "outputs": [
    {
     "name": "stdout",
     "output_type": "stream",
     "text": [
      "Number of data points After eliminating price = NULL : 28395\n"
     ]
    }
   ],
   "source": [
    "# ~ is NOT operator \n",
    "data = data.loc[~data['formatted_price'].isnull()]\n",
    "print('Number of data points After eliminating price = NULL :', data.shape[0])"
   ]
  },
  {
   "cell_type": "code",
   "execution_count": 23,
   "id": "d23c31de",
   "metadata": {},
   "outputs": [
    {
     "name": "stdout",
     "output_type": "stream",
     "text": [
      "Number of data points After eliminating color = NULL : 28385\n"
     ]
    }
   ],
   "source": [
    "data =data.loc[~data['color'].isnull()]\n",
    "print('Number of data points After eliminating color = NULL :', data.shape[0])"
   ]
  },
  {
   "cell_type": "code",
   "execution_count": 24,
   "id": "0951c785",
   "metadata": {},
   "outputs": [
    {
     "name": "stdout",
     "output_type": "stream",
     "text": [
      "2325\n"
     ]
    }
   ],
   "source": [
    "#https://sparkbyexamples.com/pandas/pandas-drop-duplicate-rows-from-dataframe/#:~:text=Remove%20All%20Duplicate%20Rows%20from,drop_duplicates(keep%3DFalse)%20.\n",
    "# checking how many duplicate row on the basis of title only.\n",
    "print(sum(data.duplicated('title')))"
   ]
  },
  {
   "cell_type": "code",
   "execution_count": 25,
   "id": "5d79c31b",
   "metadata": {},
   "outputs": [
    {
     "data": {
      "text/plain": [
       "28385"
      ]
     },
     "execution_count": 25,
     "metadata": {},
     "output_type": "execute_result"
    }
   ],
   "source": [
    "data.shape[0]"
   ]
  },
  {
   "cell_type": "code",
   "execution_count": 26,
   "id": "ee1b8610",
   "metadata": {},
   "outputs": [],
   "source": [
    "data = data.drop_duplicates(subset=[\"title\"], keep='first',ignore_index=True)"
   ]
  },
  {
   "cell_type": "code",
   "execution_count": 27,
   "id": "8c513cc7",
   "metadata": {},
   "outputs": [
    {
     "data": {
      "text/plain": [
       "26060"
      ]
     },
     "execution_count": 27,
     "metadata": {},
     "output_type": "execute_result"
    }
   ],
   "source": [
    "data.shape[0]"
   ]
  },
  {
   "cell_type": "code",
   "execution_count": 28,
   "id": "918b0585",
   "metadata": {},
   "outputs": [
    {
     "data": {
      "text/html": [
       "<div>\n",
       "<style scoped>\n",
       "    .dataframe tbody tr th:only-of-type {\n",
       "        vertical-align: middle;\n",
       "    }\n",
       "\n",
       "    .dataframe tbody tr th {\n",
       "        vertical-align: top;\n",
       "    }\n",
       "\n",
       "    .dataframe thead th {\n",
       "        text-align: right;\n",
       "    }\n",
       "</style>\n",
       "<table border=\"1\" class=\"dataframe\">\n",
       "  <thead>\n",
       "    <tr style=\"text-align: right;\">\n",
       "      <th></th>\n",
       "      <th>asin</th>\n",
       "      <th>brand</th>\n",
       "      <th>color</th>\n",
       "      <th>medium_image_url</th>\n",
       "      <th>product_type_name</th>\n",
       "      <th>title</th>\n",
       "      <th>formatted_price</th>\n",
       "    </tr>\n",
       "  </thead>\n",
       "  <tbody>\n",
       "    <tr>\n",
       "      <th>0</th>\n",
       "      <td>B004GSI2OS</td>\n",
       "      <td>FeatherLite</td>\n",
       "      <td>Onyx Black/ Stone</td>\n",
       "      <td>https://images-na.ssl-images-amazon.com/images...</td>\n",
       "      <td>SHIRT</td>\n",
       "      <td>Featherlite Ladies' Long Sleeve Stain Resistan...</td>\n",
       "      <td>$26.26</td>\n",
       "    </tr>\n",
       "  </tbody>\n",
       "</table>\n",
       "</div>"
      ],
      "text/plain": [
       "         asin        brand              color  \\\n",
       "0  B004GSI2OS  FeatherLite  Onyx Black/ Stone   \n",
       "\n",
       "                                    medium_image_url product_type_name  \\\n",
       "0  https://images-na.ssl-images-amazon.com/images...             SHIRT   \n",
       "\n",
       "                                               title formatted_price  \n",
       "0  Featherlite Ladies' Long Sleeve Stain Resistan...          $26.26  "
      ]
     },
     "execution_count": 28,
     "metadata": {},
     "output_type": "execute_result"
    }
   ],
   "source": [
    "data.head(1)"
   ]
  },
  {
   "cell_type": "code",
   "execution_count": 29,
   "id": "068e2d13",
   "metadata": {},
   "outputs": [
    {
     "data": {
      "text/plain": [
       "0"
      ]
     },
     "execution_count": 29,
     "metadata": {},
     "output_type": "execute_result"
    }
   ],
   "source": [
    "(sum(data.duplicated('asin')))"
   ]
  },
  {
   "cell_type": "code",
   "execution_count": 30,
   "id": "b93122df",
   "metadata": {},
   "outputs": [],
   "source": [
    "data[\"title\"] = data[\"title\"].apply(lambda x: x.lower()) "
   ]
  },
  {
   "cell_type": "code",
   "execution_count": 31,
   "id": "daca7950",
   "metadata": {},
   "outputs": [
    {
     "data": {
      "text/html": [
       "<div>\n",
       "<style scoped>\n",
       "    .dataframe tbody tr th:only-of-type {\n",
       "        vertical-align: middle;\n",
       "    }\n",
       "\n",
       "    .dataframe tbody tr th {\n",
       "        vertical-align: top;\n",
       "    }\n",
       "\n",
       "    .dataframe thead th {\n",
       "        text-align: right;\n",
       "    }\n",
       "</style>\n",
       "<table border=\"1\" class=\"dataframe\">\n",
       "  <thead>\n",
       "    <tr style=\"text-align: right;\">\n",
       "      <th></th>\n",
       "      <th>asin</th>\n",
       "      <th>brand</th>\n",
       "      <th>color</th>\n",
       "      <th>medium_image_url</th>\n",
       "      <th>product_type_name</th>\n",
       "      <th>title</th>\n",
       "      <th>formatted_price</th>\n",
       "    </tr>\n",
       "  </thead>\n",
       "  <tbody>\n",
       "    <tr>\n",
       "      <th>0</th>\n",
       "      <td>B004GSI2OS</td>\n",
       "      <td>FeatherLite</td>\n",
       "      <td>Onyx Black/ Stone</td>\n",
       "      <td>https://images-na.ssl-images-amazon.com/images...</td>\n",
       "      <td>SHIRT</td>\n",
       "      <td>featherlite ladies' long sleeve stain resistan...</td>\n",
       "      <td>$26.26</td>\n",
       "    </tr>\n",
       "  </tbody>\n",
       "</table>\n",
       "</div>"
      ],
      "text/plain": [
       "         asin        brand              color  \\\n",
       "0  B004GSI2OS  FeatherLite  Onyx Black/ Stone   \n",
       "\n",
       "                                    medium_image_url product_type_name  \\\n",
       "0  https://images-na.ssl-images-amazon.com/images...             SHIRT   \n",
       "\n",
       "                                               title formatted_price  \n",
       "0  featherlite ladies' long sleeve stain resistan...          $26.26  "
      ]
     },
     "execution_count": 31,
     "metadata": {},
     "output_type": "execute_result"
    }
   ],
   "source": [
    "data.head(1)"
   ]
  },
  {
   "cell_type": "code",
   "execution_count": 32,
   "id": "b044e12c",
   "metadata": {},
   "outputs": [
    {
     "data": {
      "text/plain": [
       "\"featherlite ladies' long sleeve stain resistant tapered twill shirt, 2xl, onyx black/ stone\""
      ]
     },
     "execution_count": 32,
     "metadata": {},
     "output_type": "execute_result"
    }
   ],
   "source": [
    "data[\"title\"][0]"
   ]
  },
  {
   "cell_type": "code",
   "execution_count": 33,
   "id": "2b4c46c8",
   "metadata": {},
   "outputs": [
    {
     "data": {
      "text/plain": [
       "\"women's unique 100% cotton t - special olympics world games 2015 white size l\""
      ]
     },
     "execution_count": 33,
     "metadata": {},
     "output_type": "execute_result"
    }
   ],
   "source": [
    "data[\"title\"][1]"
   ]
  },
  {
   "cell_type": "code",
   "execution_count": 34,
   "id": "d76d175e",
   "metadata": {},
   "outputs": [
    {
     "data": {
      "text/plain": [
       "'women s unique 100 cotton t special olympics world games 2015 white size l'"
      ]
     },
     "execution_count": 34,
     "metadata": {},
     "output_type": "execute_result"
    }
   ],
   "source": [
    "import re\n",
    "re.sub('[^A-Za-z0-9]+', ' ', data[\"title\"][1])"
   ]
  },
  {
   "cell_type": "code",
   "execution_count": 35,
   "id": "e02e1793",
   "metadata": {},
   "outputs": [],
   "source": [
    "#will keep words which is alpha numeric only rest will be removed\n",
    "for i in range(data.shape[0]):\n",
    "    data[\"title\"][i] = re.sub('[^A-Za-z0-9]+', ' ', data[\"title\"][i])"
   ]
  },
  {
   "cell_type": "code",
   "execution_count": 36,
   "id": "d509272a",
   "metadata": {},
   "outputs": [
    {
     "data": {
      "text/plain": [
       "'featherlite ladies long sleeve stain resistant tapered twill shirt 2xl onyx black stone'"
      ]
     },
     "execution_count": 36,
     "metadata": {},
     "output_type": "execute_result"
    }
   ],
   "source": [
    "data[\"title\"][0]"
   ]
  },
  {
   "cell_type": "code",
   "execution_count": 37,
   "id": "ba877290",
   "metadata": {},
   "outputs": [
    {
     "name": "stderr",
     "output_type": "stream",
     "text": [
      "[nltk_data] Downloading package stopwords to\n",
      "[nltk_data]     /Users/ayubansari/nltk_data...\n",
      "[nltk_data]   Package stopwords is already up-to-date!\n"
     ]
    }
   ],
   "source": [
    "import nltk\n",
    "nltk.download('stopwords')\n",
    "from nltk.corpus import stopwords"
   ]
  },
  {
   "cell_type": "code",
   "execution_count": 38,
   "id": "6ae8aaac",
   "metadata": {},
   "outputs": [],
   "source": [
    "stop_words = stopwords.words('english')\n",
    "data['title'] = data['title'].apply(lambda x: ' '.join([word for word in x.split() if word not in (stop_words)]))\n",
    "\n",
    "# x will be string> one title at a time\n",
    "# word be list of words in the title"
   ]
  },
  {
   "cell_type": "code",
   "execution_count": 39,
   "id": "58ebe7b9",
   "metadata": {},
   "outputs": [
    {
     "data": {
      "text/plain": [
       "'featherlite ladies moisture free mesh sport shirt white xxx large'"
      ]
     },
     "execution_count": 39,
     "metadata": {},
     "output_type": "execute_result"
    }
   ],
   "source": [
    "data[\"title\"][3]"
   ]
  },
  {
   "cell_type": "code",
   "execution_count": 40,
   "id": "3f5a4503",
   "metadata": {},
   "outputs": [],
   "source": [
    "df = data.copy()"
   ]
  },
  {
   "cell_type": "code",
   "execution_count": 41,
   "id": "b88d93f0",
   "metadata": {},
   "outputs": [],
   "source": [
    "#df[\"title\"][2]"
   ]
  },
  {
   "cell_type": "code",
   "execution_count": 42,
   "id": "c8b61901",
   "metadata": {},
   "outputs": [],
   "source": [
    "Top_sizes = [\"xl\",\"xxl\",\"small\", \"medium\",\"large\",\"2x1\",'1x1',\"xxx\",\"xx\",\"2xl\",\"1xl\"]\n",
    "data['title'] = data['title'].apply(lambda x: ' '.join([word for word in x.split() if word not in (Top_sizes)]))\n",
    "\n",
    "# x will be string> one title at a time\n",
    "# word be list of words in the title"
   ]
  },
  {
   "cell_type": "code",
   "execution_count": 43,
   "id": "7ef2b544",
   "metadata": {},
   "outputs": [],
   "source": [
    "#df[\"title\"][3]"
   ]
  },
  {
   "cell_type": "code",
   "execution_count": 44,
   "id": "67a7f4f4",
   "metadata": {},
   "outputs": [],
   "source": [
    "#df[\"title\"][2]"
   ]
  },
  {
   "cell_type": "code",
   "execution_count": 45,
   "id": "f7af335f",
   "metadata": {},
   "outputs": [],
   "source": [
    "data[\"title\"] = data[\"title\"].apply(lambda x: re.sub('[^A-Za-z]+', ' ', x ))"
   ]
  },
  {
   "cell_type": "code",
   "execution_count": 46,
   "id": "7d4ad92a",
   "metadata": {},
   "outputs": [
    {
     "data": {
      "text/plain": [
       "'women unique cotton special olympics world games white size l'"
      ]
     },
     "execution_count": 46,
     "metadata": {},
     "output_type": "execute_result"
    }
   ],
   "source": [
    "data[\"title\"][1]"
   ]
  },
  {
   "cell_type": "code",
   "execution_count": 47,
   "id": "e032a8ec",
   "metadata": {},
   "outputs": [
    {
     "data": {
      "text/html": [
       "<div>\n",
       "<style scoped>\n",
       "    .dataframe tbody tr th:only-of-type {\n",
       "        vertical-align: middle;\n",
       "    }\n",
       "\n",
       "    .dataframe tbody tr th {\n",
       "        vertical-align: top;\n",
       "    }\n",
       "\n",
       "    .dataframe thead th {\n",
       "        text-align: right;\n",
       "    }\n",
       "</style>\n",
       "<table border=\"1\" class=\"dataframe\">\n",
       "  <thead>\n",
       "    <tr style=\"text-align: right;\">\n",
       "      <th></th>\n",
       "      <th>asin</th>\n",
       "      <th>brand</th>\n",
       "      <th>color</th>\n",
       "      <th>medium_image_url</th>\n",
       "      <th>product_type_name</th>\n",
       "      <th>title</th>\n",
       "      <th>formatted_price</th>\n",
       "    </tr>\n",
       "  </thead>\n",
       "  <tbody>\n",
       "    <tr>\n",
       "      <th>0</th>\n",
       "      <td>B004GSI2OS</td>\n",
       "      <td>FeatherLite</td>\n",
       "      <td>Onyx Black/ Stone</td>\n",
       "      <td>https://images-na.ssl-images-amazon.com/images...</td>\n",
       "      <td>SHIRT</td>\n",
       "      <td>featherlite ladies long sleeve stain resistant...</td>\n",
       "      <td>$26.26</td>\n",
       "    </tr>\n",
       "    <tr>\n",
       "      <th>1</th>\n",
       "      <td>B012YX2ZPI</td>\n",
       "      <td>HX-Kingdom Fashion T-shirts</td>\n",
       "      <td>White</td>\n",
       "      <td>https://images-na.ssl-images-amazon.com/images...</td>\n",
       "      <td>SHIRT</td>\n",
       "      <td>women unique cotton special olympics world gam...</td>\n",
       "      <td>$9.99</td>\n",
       "    </tr>\n",
       "  </tbody>\n",
       "</table>\n",
       "</div>"
      ],
      "text/plain": [
       "         asin                        brand              color  \\\n",
       "0  B004GSI2OS                  FeatherLite  Onyx Black/ Stone   \n",
       "1  B012YX2ZPI  HX-Kingdom Fashion T-shirts              White   \n",
       "\n",
       "                                    medium_image_url product_type_name  \\\n",
       "0  https://images-na.ssl-images-amazon.com/images...             SHIRT   \n",
       "1  https://images-na.ssl-images-amazon.com/images...             SHIRT   \n",
       "\n",
       "                                               title formatted_price  \n",
       "0  featherlite ladies long sleeve stain resistant...          $26.26  \n",
       "1  women unique cotton special olympics world gam...           $9.99  "
      ]
     },
     "execution_count": 47,
     "metadata": {},
     "output_type": "execute_result"
    }
   ],
   "source": [
    "data.head(2)"
   ]
  },
  {
   "cell_type": "code",
   "execution_count": 48,
   "id": "4dda197c",
   "metadata": {},
   "outputs": [],
   "source": [
    "data.to_csv(\"cleand_top_amzn_data.csv\")"
   ]
  },
  {
   "cell_type": "code",
   "execution_count": 49,
   "id": "f027b5b9",
   "metadata": {},
   "outputs": [],
   "source": [
    "Data = data.copy()"
   ]
  },
  {
   "cell_type": "code",
   "execution_count": 50,
   "id": "064963c2",
   "metadata": {},
   "outputs": [],
   "source": [
    "Data = Data[[\"asin\",\"title\",\"medium_image_url\"]]"
   ]
  },
  {
   "cell_type": "code",
   "execution_count": 51,
   "id": "17b32fcd",
   "metadata": {},
   "outputs": [
    {
     "data": {
      "text/html": [
       "<div>\n",
       "<style scoped>\n",
       "    .dataframe tbody tr th:only-of-type {\n",
       "        vertical-align: middle;\n",
       "    }\n",
       "\n",
       "    .dataframe tbody tr th {\n",
       "        vertical-align: top;\n",
       "    }\n",
       "\n",
       "    .dataframe thead th {\n",
       "        text-align: right;\n",
       "    }\n",
       "</style>\n",
       "<table border=\"1\" class=\"dataframe\">\n",
       "  <thead>\n",
       "    <tr style=\"text-align: right;\">\n",
       "      <th></th>\n",
       "      <th>asin</th>\n",
       "      <th>title</th>\n",
       "      <th>medium_image_url</th>\n",
       "    </tr>\n",
       "  </thead>\n",
       "  <tbody>\n",
       "    <tr>\n",
       "      <th>0</th>\n",
       "      <td>B004GSI2OS</td>\n",
       "      <td>featherlite ladies long sleeve stain resistant...</td>\n",
       "      <td>https://images-na.ssl-images-amazon.com/images...</td>\n",
       "    </tr>\n",
       "    <tr>\n",
       "      <th>1</th>\n",
       "      <td>B012YX2ZPI</td>\n",
       "      <td>women unique cotton special olympics world gam...</td>\n",
       "      <td>https://images-na.ssl-images-amazon.com/images...</td>\n",
       "    </tr>\n",
       "    <tr>\n",
       "      <th>2</th>\n",
       "      <td>B001LOUGE4</td>\n",
       "      <td>ladies cotton tank ribbed tank top</td>\n",
       "      <td>https://images-na.ssl-images-amazon.com/images...</td>\n",
       "    </tr>\n",
       "    <tr>\n",
       "      <th>3</th>\n",
       "      <td>B003BSRPB0</td>\n",
       "      <td>featherlite ladies moisture free mesh sport sh...</td>\n",
       "      <td>https://images-na.ssl-images-amazon.com/images...</td>\n",
       "    </tr>\n",
       "    <tr>\n",
       "      <th>4</th>\n",
       "      <td>B014ICEDNA</td>\n",
       "      <td>supernatural chibis sam dean castiel short sle...</td>\n",
       "      <td>https://images-na.ssl-images-amazon.com/images...</td>\n",
       "    </tr>\n",
       "  </tbody>\n",
       "</table>\n",
       "</div>"
      ],
      "text/plain": [
       "         asin                                              title  \\\n",
       "0  B004GSI2OS  featherlite ladies long sleeve stain resistant...   \n",
       "1  B012YX2ZPI  women unique cotton special olympics world gam...   \n",
       "2  B001LOUGE4                 ladies cotton tank ribbed tank top   \n",
       "3  B003BSRPB0  featherlite ladies moisture free mesh sport sh...   \n",
       "4  B014ICEDNA  supernatural chibis sam dean castiel short sle...   \n",
       "\n",
       "                                    medium_image_url  \n",
       "0  https://images-na.ssl-images-amazon.com/images...  \n",
       "1  https://images-na.ssl-images-amazon.com/images...  \n",
       "2  https://images-na.ssl-images-amazon.com/images...  \n",
       "3  https://images-na.ssl-images-amazon.com/images...  \n",
       "4  https://images-na.ssl-images-amazon.com/images...  "
      ]
     },
     "execution_count": 51,
     "metadata": {},
     "output_type": "execute_result"
    }
   ],
   "source": [
    "Data.head()"
   ]
  },
  {
   "cell_type": "code",
   "execution_count": 52,
   "id": "98ab911d",
   "metadata": {},
   "outputs": [
    {
     "data": {
      "text/plain": [
       "(26060, 10053)"
      ]
     },
     "execution_count": 52,
     "metadata": {},
     "output_type": "execute_result"
    }
   ],
   "source": [
    "from sklearn.feature_extraction.text import CountVectorizer\n",
    "title_vectorizer = CountVectorizer()\n",
    "Vector   = title_vectorizer.fit_transform(Data['title'])\n",
    "Vector.get_shape() "
   ]
  },
  {
   "cell_type": "code",
   "execution_count": 53,
   "id": "0f3691f5",
   "metadata": {},
   "outputs": [
    {
     "data": {
      "text/plain": [
       "(10053,)"
      ]
     },
     "execution_count": 53,
     "metadata": {},
     "output_type": "execute_result"
    }
   ],
   "source": [
    "Vector.toarray()[0].shape"
   ]
  },
  {
   "cell_type": "code",
   "execution_count": 54,
   "id": "2df7664f",
   "metadata": {},
   "outputs": [],
   "source": [
    "# we will use cosine similary to select the simalr movies.\n",
    "from sklearn.metrics.pairwise import cosine_similarity\n",
    "Similarity = cosine_similarity(Vector)"
   ]
  },
  {
   "cell_type": "code",
   "execution_count": 55,
   "id": "7aacebc7",
   "metadata": {},
   "outputs": [
    {
     "data": {
      "text/plain": [
       "[(0, 1.0000000000000002),\n",
       " (426, 0.957427107756338),\n",
       " (11, 0.8215838362577492),\n",
       " (344, 0.8215838362577492),\n",
       " (357, 0.8215838362577492),\n",
       " (26002, 0.7833494518006402),\n",
       " (25509, 0.6735753140545635),\n",
       " (288, 0.6546536707079772),\n",
       " (22242, 0.6546536707079772),\n",
       " (261, 0.6123724356957946),\n",
       " (356, 0.6123724356957946),\n",
       " (25318, 0.6092717958449424),\n",
       " (25657, 0.6092717958449424),\n",
       " (25994, 0.6092717958449424),\n",
       " (137, 0.545544725589981),\n",
       " (24440, 0.545544725589981),\n",
       " (24622, 0.545544725589981),\n",
       " (24859, 0.545544725589981),\n",
       " (25002, 0.5222329678670935),\n",
       " (25303, 0.5222329678670935),\n",
       " (25370, 0.5222329678670935),\n",
       " (25510, 0.5222329678670935),\n",
       " (25645, 0.5222329678670935),\n",
       " (25789, 0.5222329678670935),\n",
       " (25806, 0.5222329678670935),\n",
       " (147, 0.5103103630798288),\n",
       " (192, 0.5103103630798288),\n",
       " (195, 0.5103103630798288),\n",
       " (222, 0.5103103630798288),\n",
       " (223, 0.5103103630798288),\n",
       " (242, 0.5103103630798288),\n",
       " (388, 0.5103103630798288),\n",
       " (394, 0.5103103630798288),\n",
       " (25313, 0.5000000000000001),\n",
       " (25414, 0.4811252243246882),\n",
       " (25539, 0.4811252243246882),\n",
       " (25687, 0.4811252243246882),\n",
       " (25975, 0.4811252243246882),\n",
       " (241, 0.4714045207910318),\n",
       " (245, 0.4714045207910318),\n",
       " (12250, 0.4714045207910318),\n",
       " (16994, 0.4714045207910318),\n",
       " (19674, 0.4714045207910318),\n",
       " (24455, 0.4714045207910318),\n",
       " (17797, 0.4564354645876385),\n",
       " (21772, 0.4564354645876385),\n",
       " (24756, 0.4564354645876385),\n",
       " (1591, 0.4364357804719848),\n",
       " (6464, 0.4364357804719848),\n",
       " (8796, 0.4364357804719848),\n",
       " (10557, 0.4364357804719848),\n",
       " (13418, 0.4364357804719848),\n",
       " (17056, 0.4364357804719848),\n",
       " (24914, 0.4364357804719848),\n",
       " (499, 0.4351941398892446),\n",
       " (24327, 0.4351941398892446),\n",
       " (24429, 0.4351941398892446),\n",
       " (24625, 0.4351941398892446),\n",
       " (24752, 0.4351941398892446),\n",
       " (24810, 0.4351941398892446),\n",
       " (24906, 0.4351941398892446),\n",
       " (25410, 0.4351941398892446),\n",
       " (25433, 0.4351941398892446),\n",
       " (25979, 0.4351941398892446),\n",
       " (4949, 0.4166666666666668),\n",
       " (10527, 0.4166666666666668),\n",
       " (25865, 0.4166666666666668),\n",
       " (177, 0.408248290463863),\n",
       " (2412, 0.408248290463863),\n",
       " (3168, 0.408248290463863),\n",
       " (3613, 0.408248290463863),\n",
       " (4707, 0.408248290463863),\n",
       " (4848, 0.408248290463863),\n",
       " (5887, 0.408248290463863),\n",
       " (6702, 0.408248290463863),\n",
       " (10205, 0.408248290463863),\n",
       " (15534, 0.408248290463863),\n",
       " (17935, 0.408248290463863),\n",
       " (17936, 0.408248290463863),\n",
       " (19803, 0.408248290463863),\n",
       " (23618, 0.408248290463863),\n",
       " (24862, 0.408248290463863),\n",
       " (25153, 0.408248290463863),\n",
       " (24552, 0.4003203845127179),\n",
       " (3609, 0.38729833462074176),\n",
       " (4153, 0.38729833462074176),\n",
       " (5395, 0.38729833462074176),\n",
       " (10529, 0.38729833462074176),\n",
       " (2580, 0.3872983346207417),\n",
       " (12026, 0.3872983346207417),\n",
       " (12516, 0.3872983346207417),\n",
       " (14570, 0.3872983346207417),\n",
       " (15216, 0.3872983346207417),\n",
       " (19678, 0.3872983346207417),\n",
       " (22193, 0.3872983346207417),\n",
       " (23002, 0.3872983346207417),\n",
       " (23641, 0.3872983346207417),\n",
       " (23836, 0.3872983346207417),\n",
       " (24104, 0.3872983346207417),\n",
       " (10397, 0.38575837490522985),\n",
       " (10902, 0.38575837490522985),\n",
       " (14401, 0.38575837490522985),\n",
       " (21536, 0.38575837490522985),\n",
       " (1382, 0.3849001794597505),\n",
       " (1485, 0.3849001794597505),\n",
       " (2011, 0.3849001794597505),\n",
       " (2259, 0.3849001794597505),\n",
       " (2468, 0.3849001794597505),\n",
       " (2748, 0.3849001794597505),\n",
       " (5337, 0.3849001794597505),\n",
       " (6218, 0.3849001794597505),\n",
       " (7006, 0.3849001794597505),\n",
       " (7624, 0.3849001794597505),\n",
       " (7882, 0.3849001794597505),\n",
       " (10170, 0.3849001794597505),\n",
       " (12841, 0.3849001794597505),\n",
       " (13086, 0.3849001794597505),\n",
       " (13832, 0.3849001794597505),\n",
       " (14136, 0.3849001794597505),\n",
       " (16744, 0.3849001794597505),\n",
       " (17081, 0.3849001794597505),\n",
       " (17178, 0.3849001794597505),\n",
       " (18857, 0.3849001794597505),\n",
       " (19511, 0.3849001794597505),\n",
       " (20431, 0.3849001794597505),\n",
       " (20730, 0.3849001794597505),\n",
       " (21876, 0.3849001794597505),\n",
       " (23565, 0.3849001794597505),\n",
       " (23894, 0.3849001794597505),\n",
       " (24298, 0.3849001794597505),\n",
       " (24387, 0.3849001794597505),\n",
       " (24390, 0.3849001794597505),\n",
       " (24691, 0.3849001794597505),\n",
       " (25205, 0.3849001794597505),\n",
       " (25365, 0.3849001794597505),\n",
       " (25444, 0.3849001794597505),\n",
       " (25739, 0.3849001794597505),\n",
       " (25747, 0.3849001794597505),\n",
       " (2368, 0.3651483716701108),\n",
       " (2469, 0.3651483716701108),\n",
       " (3448, 0.3651483716701108),\n",
       " (4149, 0.3651483716701108),\n",
       " (5469, 0.3651483716701108),\n",
       " (5658, 0.3651483716701108),\n",
       " (5659, 0.3651483716701108),\n",
       " (7605, 0.3651483716701108),\n",
       " (7682, 0.3651483716701108),\n",
       " (7979, 0.3651483716701108),\n",
       " (8536, 0.3651483716701108),\n",
       " (9235, 0.3651483716701108),\n",
       " (9729, 0.3651483716701108),\n",
       " (10134, 0.3651483716701108),\n",
       " (10482, 0.3651483716701108),\n",
       " (11036, 0.3651483716701108),\n",
       " (11162, 0.3651483716701108),\n",
       " (11733, 0.3651483716701108),\n",
       " (12113, 0.3651483716701108),\n",
       " (12480, 0.3651483716701108),\n",
       " (12515, 0.3651483716701108),\n",
       " (12936, 0.3651483716701108),\n",
       " (13685, 0.3651483716701108),\n",
       " (13928, 0.3651483716701108),\n",
       " (14337, 0.3651483716701108),\n",
       " (15893, 0.3651483716701108),\n",
       " (16272, 0.3651483716701108),\n",
       " (18536, 0.3651483716701108),\n",
       " (18542, 0.3651483716701108),\n",
       " (19363, 0.3651483716701108),\n",
       " (20306, 0.3651483716701108),\n",
       " (21401, 0.3651483716701108),\n",
       " (22226, 0.3651483716701108),\n",
       " (22340, 0.3651483716701108),\n",
       " (22514, 0.3651483716701108),\n",
       " (22708, 0.3651483716701108),\n",
       " (23820, 0.3651483716701108),\n",
       " (24659, 0.3651483716701108),\n",
       " (25495, 0.3651483716701108),\n",
       " (25542, 0.3651483716701108),\n",
       " (25589, 0.3651483716701108),\n",
       " (25732, 0.3651483716701108),\n",
       " (25812, 0.3651483716701108),\n",
       " (25976, 0.3651483716701108),\n",
       " (16071, 0.36084391824351614),\n",
       " (26, 0.35355339059327384),\n",
       " (37, 0.35355339059327384),\n",
       " (52, 0.35355339059327384),\n",
       " (53, 0.35355339059327384),\n",
       " (97, 0.35355339059327384),\n",
       " (108, 0.35355339059327384),\n",
       " (121, 0.35355339059327384),\n",
       " (232, 0.35355339059327384),\n",
       " (268, 0.35355339059327384),\n",
       " (294, 0.35355339059327384),\n",
       " (301, 0.35355339059327384),\n",
       " (311, 0.35355339059327384),\n",
       " (323, 0.35355339059327384),\n",
       " (355, 0.35355339059327384),\n",
       " (376, 0.35355339059327384),\n",
       " (424, 0.35355339059327384),\n",
       " (994, 0.35355339059327384),\n",
       " (1841, 0.35355339059327384),\n",
       " (9588, 0.35355339059327384),\n",
       " (11473, 0.35355339059327384),\n",
       " (11545, 0.35355339059327384),\n",
       " (12005, 0.35355339059327384),\n",
       " (12184, 0.35355339059327384),\n",
       " (15274, 0.35355339059327384),\n",
       " (15399, 0.35355339059327384),\n",
       " (18427, 0.35355339059327384),\n",
       " (19733, 0.35355339059327384),\n",
       " (19773, 0.35355339059327384),\n",
       " (21511, 0.35355339059327384),\n",
       " (23679, 0.35355339059327384),\n",
       " (526, 0.35007002100700246),\n",
       " (1631, 0.35007002100700246),\n",
       " (2188, 0.35007002100700246),\n",
       " (4708, 0.35007002100700246),\n",
       " (12824, 0.35007002100700246),\n",
       " (14234, 0.35007002100700246),\n",
       " (636, 0.3481553119113957),\n",
       " (793, 0.3481553119113957),\n",
       " (1549, 0.3481553119113957),\n",
       " (1562, 0.3481553119113957),\n",
       " (1674, 0.3481553119113957),\n",
       " (1948, 0.3481553119113957),\n",
       " (2045, 0.3481553119113957),\n",
       " (6513, 0.3481553119113957),\n",
       " (8162, 0.3481553119113957),\n",
       " (8266, 0.3481553119113957),\n",
       " (8752, 0.3481553119113957),\n",
       " (8780, 0.3481553119113957),\n",
       " (9936, 0.3481553119113957),\n",
       " (10044, 0.3481553119113957),\n",
       " (10591, 0.3481553119113957),\n",
       " (10823, 0.3481553119113957),\n",
       " (11822, 0.3481553119113957),\n",
       " (20279, 0.3481553119113957),\n",
       " (23174, 0.3481553119113957),\n",
       " (23346, 0.3481553119113957),\n",
       " (24322, 0.3481553119113957),\n",
       " (24972, 0.3481553119113957),\n",
       " (25316, 0.3481553119113957),\n",
       " (25381, 0.3481553119113957),\n",
       " (25413, 0.3481553119113957),\n",
       " (22318, 0.3402069087198859),\n",
       " (154, 0.3333333333333334),\n",
       " (156, 0.3333333333333334),\n",
       " (603, 0.3333333333333334),\n",
       " (1025, 0.3333333333333334),\n",
       " (1150, 0.3333333333333334),\n",
       " (1843, 0.3333333333333334),\n",
       " (2484, 0.3333333333333334),\n",
       " (2682, 0.3333333333333334),\n",
       " (3149, 0.3333333333333334),\n",
       " (3954, 0.3333333333333334),\n",
       " (4023, 0.3333333333333334),\n",
       " (4207, 0.3333333333333334),\n",
       " (4225, 0.3333333333333334),\n",
       " (4240, 0.3333333333333334),\n",
       " (4266, 0.3333333333333334),\n",
       " (5374, 0.3333333333333334),\n",
       " (5629, 0.3333333333333334),\n",
       " (5948, 0.3333333333333334),\n",
       " (6010, 0.3333333333333334),\n",
       " (6816, 0.3333333333333334),\n",
       " (7118, 0.3333333333333334),\n",
       " (7705, 0.3333333333333334),\n",
       " (8117, 0.3333333333333334),\n",
       " (10426, 0.3333333333333334),\n",
       " (10495, 0.3333333333333334),\n",
       " (11030, 0.3333333333333334),\n",
       " (11465, 0.3333333333333334),\n",
       " (12426, 0.3333333333333334),\n",
       " (15308, 0.3333333333333334),\n",
       " (15424, 0.3333333333333334),\n",
       " (15439, 0.3333333333333334),\n",
       " (15969, 0.3333333333333334),\n",
       " (16519, 0.3333333333333334),\n",
       " (17830, 0.3333333333333334),\n",
       " (18238, 0.3333333333333334),\n",
       " (18711, 0.3333333333333334),\n",
       " (20281, 0.3333333333333334),\n",
       " (20284, 0.3333333333333334),\n",
       " (21240, 0.3333333333333334),\n",
       " (22235, 0.3333333333333334),\n",
       " (22293, 0.3333333333333334),\n",
       " (22342, 0.3333333333333334),\n",
       " (22673, 0.3333333333333334),\n",
       " (23286, 0.3333333333333334),\n",
       " (23350, 0.3333333333333334),\n",
       " (23997, 0.3333333333333334),\n",
       " (24299, 0.3333333333333334),\n",
       " (27, 0.3273268353539886),\n",
       " (39, 0.3273268353539886),\n",
       " (164, 0.3273268353539886),\n",
       " (267, 0.3273268353539886),\n",
       " (431, 0.3273268353539886),\n",
       " (469, 0.3273268353539886),\n",
       " (777, 0.3273268353539886),\n",
       " (2767, 0.3273268353539886),\n",
       " (2790, 0.3273268353539886),\n",
       " (4336, 0.3273268353539886),\n",
       " (4433, 0.3273268353539886),\n",
       " (5044, 0.3273268353539886),\n",
       " (5841, 0.3273268353539886),\n",
       " (6085, 0.3273268353539886),\n",
       " (6175, 0.3273268353539886),\n",
       " (6392, 0.3273268353539886),\n",
       " (6495, 0.3273268353539886),\n",
       " (6634, 0.3273268353539886),\n",
       " (6807, 0.3273268353539886),\n",
       " (7528, 0.3273268353539886),\n",
       " (7554, 0.3273268353539886),\n",
       " (7627, 0.3273268353539886),\n",
       " (8386, 0.3273268353539886),\n",
       " (8930, 0.3273268353539886),\n",
       " (8985, 0.3273268353539886),\n",
       " (10042, 0.3273268353539886),\n",
       " (10078, 0.3273268353539886),\n",
       " (10312, 0.3273268353539886),\n",
       " (10657, 0.3273268353539886),\n",
       " (10943, 0.3273268353539886),\n",
       " (11517, 0.3273268353539886),\n",
       " (12295, 0.3273268353539886),\n",
       " (14069, 0.3273268353539886),\n",
       " (14795, 0.3273268353539886),\n",
       " (15406, 0.3273268353539886),\n",
       " (15784, 0.3273268353539886),\n",
       " (17280, 0.3273268353539886),\n",
       " (17397, 0.3273268353539886),\n",
       " (17926, 0.3273268353539886),\n",
       " (17987, 0.3273268353539886),\n",
       " (18223, 0.3273268353539886),\n",
       " (18296, 0.3273268353539886),\n",
       " (19280, 0.3273268353539886),\n",
       " (19537, 0.3273268353539886),\n",
       " (20197, 0.3273268353539886),\n",
       " (20669, 0.3273268353539886),\n",
       " (20711, 0.3273268353539886),\n",
       " (20963, 0.3273268353539886),\n",
       " (23012, 0.3273268353539886),\n",
       " (23532, 0.3273268353539886),\n",
       " (23673, 0.3273268353539886),\n",
       " (25642, 0.3273268353539886),\n",
       " (25933, 0.3273268353539886),\n",
       " (25962, 0.3273268353539886),\n",
       " (358, 0.32274861218395146),\n",
       " (2581, 0.32274861218395146),\n",
       " (3638, 0.32274861218395146),\n",
       " (5899, 0.32274861218395146),\n",
       " (6117, 0.32274861218395146),\n",
       " (6858, 0.32274861218395146),\n",
       " (7224, 0.32274861218395146),\n",
       " (7258, 0.32274861218395146),\n",
       " (7469, 0.32274861218395146),\n",
       " (7713, 0.32274861218395146),\n",
       " (7972, 0.32274861218395146),\n",
       " (8296, 0.32274861218395146),\n",
       " (8438, 0.32274861218395146),\n",
       " (9446, 0.32274861218395146),\n",
       " (21270, 0.32274861218395146),\n",
       " (615, 0.3202563076101743),\n",
       " (779, 0.3202563076101743),\n",
       " (1336, 0.3202563076101743),\n",
       " (1421, 0.3202563076101743),\n",
       " (1467, 0.3202563076101743),\n",
       " (1754, 0.3202563076101743),\n",
       " (1761, 0.3202563076101743),\n",
       " (3607, 0.3202563076101743),\n",
       " (6499, 0.3202563076101743),\n",
       " (7919, 0.3202563076101743),\n",
       " (8455, 0.3202563076101743),\n",
       " (11462, 0.3202563076101743),\n",
       " (12385, 0.3202563076101743),\n",
       " (13021, 0.3202563076101743),\n",
       " (13241, 0.3202563076101743),\n",
       " (13565, 0.3202563076101743),\n",
       " (14617, 0.3202563076101743),\n",
       " (15249, 0.3202563076101743),\n",
       " (16084, 0.3202563076101743),\n",
       " (16467, 0.3202563076101743),\n",
       " (17837, 0.3202563076101743),\n",
       " (17904, 0.3202563076101743),\n",
       " (18374, 0.3202563076101743),\n",
       " (18387, 0.3202563076101743),\n",
       " (18518, 0.3202563076101743),\n",
       " (18663, 0.3202563076101743),\n",
       " (19358, 0.3202563076101743),\n",
       " (19632, 0.3202563076101743),\n",
       " (21407, 0.3202563076101743),\n",
       " (22049, 0.3202563076101743),\n",
       " (23140, 0.3202563076101743),\n",
       " (23518, 0.3202563076101743),\n",
       " (23968, 0.3202563076101743),\n",
       " (24755, 0.3202563076101743),\n",
       " (24874, 0.3202563076101743),\n",
       " (24922, 0.3202563076101743),\n",
       " (25468, 0.3202563076101743),\n",
       " (25956, 0.3202563076101743),\n",
       " (25989, 0.3202563076101743),\n",
       " (23537, 0.314970394174356),\n",
       " (503, 0.3086066999241839),\n",
       " (1283, 0.3086066999241839),\n",
       " (1609, 0.3086066999241839),\n",
       " (1673, 0.3086066999241839),\n",
       " (1794, 0.3086066999241839),\n",
       " (1947, 0.3086066999241839),\n",
       " (2080, 0.3086066999241839),\n",
       " (7539, 0.3086066999241839),\n",
       " (7999, 0.3086066999241839),\n",
       " (9625, 0.3086066999241839),\n",
       " (11546, 0.3086066999241839),\n",
       " (11644, 0.3086066999241839),\n",
       " (13129, 0.3086066999241839),\n",
       " (13755, 0.3086066999241839),\n",
       " (14856, 0.3086066999241839),\n",
       " (15892, 0.3086066999241839),\n",
       " (16553, 0.3086066999241839),\n",
       " (16922, 0.3086066999241839),\n",
       " (17219, 0.3086066999241839),\n",
       " (17363, 0.3086066999241839),\n",
       " (17941, 0.3086066999241839),\n",
       " (18044, 0.3086066999241839),\n",
       " (18092, 0.3086066999241839),\n",
       " (18695, 0.3086066999241839),\n",
       " (18716, 0.3086066999241839),\n",
       " (19596, 0.3086066999241839),\n",
       " (19725, 0.3086066999241839),\n",
       " (19820, 0.3086066999241839),\n",
       " (20178, 0.3086066999241839),\n",
       " (20288, 0.3086066999241839),\n",
       " (21410, 0.3086066999241839),\n",
       " (22016, 0.3086066999241839),\n",
       " (22063, 0.3086066999241839),\n",
       " (22807, 0.3086066999241839),\n",
       " (23690, 0.3086066999241839),\n",
       " (24192, 0.3086066999241839),\n",
       " (24481, 0.3086066999241839),\n",
       " (25750, 0.3086066999241839),\n",
       " (3, 0.30618621784789724),\n",
       " (76, 0.30618621784789724),\n",
       " (102, 0.30618621784789724),\n",
       " (179, 0.30618621784789724),\n",
       " (265, 0.30618621784789724),\n",
       " (326, 0.30618621784789724),\n",
       " (373, 0.30618621784789724),\n",
       " (488, 0.30618621784789724),\n",
       " (551, 0.30618621784789724),\n",
       " (586, 0.30618621784789724),\n",
       " (625, 0.30618621784789724),\n",
       " (627, 0.30618621784789724),\n",
       " (690, 0.30618621784789724),\n",
       " (717, 0.30618621784789724),\n",
       " (837, 0.30618621784789724),\n",
       " (1214, 0.30618621784789724),\n",
       " (2054, 0.30618621784789724),\n",
       " (2554, 0.30618621784789724),\n",
       " (2753, 0.30618621784789724),\n",
       " (2858, 0.30618621784789724),\n",
       " (3254, 0.30618621784789724),\n",
       " (3279, 0.30618621784789724),\n",
       " (3351, 0.30618621784789724),\n",
       " (3558, 0.30618621784789724),\n",
       " (3594, 0.30618621784789724),\n",
       " (3969, 0.30618621784789724),\n",
       " (4060, 0.30618621784789724),\n",
       " (4155, 0.30618621784789724),\n",
       " (4365, 0.30618621784789724),\n",
       " (4387, 0.30618621784789724),\n",
       " (5368, 0.30618621784789724),\n",
       " (5699, 0.30618621784789724),\n",
       " (6246, 0.30618621784789724),\n",
       " (6279, 0.30618621784789724),\n",
       " (6917, 0.30618621784789724),\n",
       " (7057, 0.30618621784789724),\n",
       " (7549, 0.30618621784789724),\n",
       " (7599, 0.30618621784789724),\n",
       " (7651, 0.30618621784789724),\n",
       " (8539, 0.30618621784789724),\n",
       " (8551, 0.30618621784789724),\n",
       " (8636, 0.30618621784789724),\n",
       " (8696, 0.30618621784789724),\n",
       " (8748, 0.30618621784789724),\n",
       " (8749, 0.30618621784789724),\n",
       " (9012, 0.30618621784789724),\n",
       " (9189, 0.30618621784789724),\n",
       " (9660, 0.30618621784789724),\n",
       " (9667, 0.30618621784789724),\n",
       " (9694, 0.30618621784789724),\n",
       " (10090, 0.30618621784789724),\n",
       " (10112, 0.30618621784789724),\n",
       " (10394, 0.30618621784789724),\n",
       " (10498, 0.30618621784789724),\n",
       " (10994, 0.30618621784789724),\n",
       " (11077, 0.30618621784789724),\n",
       " (11350, 0.30618621784789724),\n",
       " (11413, 0.30618621784789724),\n",
       " (11484, 0.30618621784789724),\n",
       " (11485, 0.30618621784789724),\n",
       " (11587, 0.30618621784789724),\n",
       " (11653, 0.30618621784789724),\n",
       " (11888, 0.30618621784789724),\n",
       " (11958, 0.30618621784789724),\n",
       " (12054, 0.30618621784789724),\n",
       " (12106, 0.30618621784789724),\n",
       " (12280, 0.30618621784789724),\n",
       " (12423, 0.30618621784789724),\n",
       " (12536, 0.30618621784789724),\n",
       " (12738, 0.30618621784789724),\n",
       " (12845, 0.30618621784789724),\n",
       " (12923, 0.30618621784789724),\n",
       " (12952, 0.30618621784789724),\n",
       " (13174, 0.30618621784789724),\n",
       " (13354, 0.30618621784789724),\n",
       " (13698, 0.30618621784789724),\n",
       " (13774, 0.30618621784789724),\n",
       " (13778, 0.30618621784789724),\n",
       " (14156, 0.30618621784789724),\n",
       " (14226, 0.30618621784789724),\n",
       " (14230, 0.30618621784789724),\n",
       " (14231, 0.30618621784789724),\n",
       " (14391, 0.30618621784789724),\n",
       " (14423, 0.30618621784789724),\n",
       " (14535, 0.30618621784789724),\n",
       " (14614, 0.30618621784789724),\n",
       " (14647, 0.30618621784789724),\n",
       " (14918, 0.30618621784789724),\n",
       " (15136, 0.30618621784789724),\n",
       " (15176, 0.30618621784789724),\n",
       " (15388, 0.30618621784789724),\n",
       " (15413, 0.30618621784789724),\n",
       " (15460, 0.30618621784789724),\n",
       " (15744, 0.30618621784789724),\n",
       " (15942, 0.30618621784789724),\n",
       " (15957, 0.30618621784789724),\n",
       " (16096, 0.30618621784789724),\n",
       " (16290, 0.30618621784789724),\n",
       " (16562, 0.30618621784789724),\n",
       " (16651, 0.30618621784789724),\n",
       " (16705, 0.30618621784789724),\n",
       " (16902, 0.30618621784789724),\n",
       " (17007, 0.30618621784789724),\n",
       " (17048, 0.30618621784789724),\n",
       " (17065, 0.30618621784789724),\n",
       " (17091, 0.30618621784789724),\n",
       " (17661, 0.30618621784789724),\n",
       " (17714, 0.30618621784789724),\n",
       " (17739, 0.30618621784789724),\n",
       " (17866, 0.30618621784789724),\n",
       " (18039, 0.30618621784789724),\n",
       " (18480, 0.30618621784789724),\n",
       " (18576, 0.30618621784789724),\n",
       " (18645, 0.30618621784789724),\n",
       " (18943, 0.30618621784789724),\n",
       " (19036, 0.30618621784789724),\n",
       " (19152, 0.30618621784789724),\n",
       " (19487, 0.30618621784789724),\n",
       " (19691, 0.30618621784789724),\n",
       " (19780, 0.30618621784789724),\n",
       " (20079, 0.30618621784789724),\n",
       " (20188, 0.30618621784789724),\n",
       " (20278, 0.30618621784789724),\n",
       " (20295, 0.30618621784789724),\n",
       " (20414, 0.30618621784789724),\n",
       " (20663, 0.30618621784789724),\n",
       " (20931, 0.30618621784789724),\n",
       " (20945, 0.30618621784789724),\n",
       " (21051, 0.30618621784789724),\n",
       " (21061, 0.30618621784789724),\n",
       " (21276, 0.30618621784789724),\n",
       " (21453, 0.30618621784789724),\n",
       " (22143, 0.30618621784789724),\n",
       " (22660, 0.30618621784789724),\n",
       " (22667, 0.30618621784789724),\n",
       " (22852, 0.30618621784789724),\n",
       " (22886, 0.30618621784789724),\n",
       " (23272, 0.30618621784789724),\n",
       " (23361, 0.30618621784789724),\n",
       " (23363, 0.30618621784789724),\n",
       " (23422, 0.30618621784789724),\n",
       " (23442, 0.30618621784789724),\n",
       " (23577, 0.30618621784789724),\n",
       " (23627, 0.30618621784789724),\n",
       " (23687, 0.30618621784789724),\n",
       " (24074, 0.30618621784789724),\n",
       " (24138, 0.30618621784789724),\n",
       " (24283, 0.30618621784789724),\n",
       " (24617, 0.30618621784789724),\n",
       " (24674, 0.30618621784789724),\n",
       " (24925, 0.30618621784789724),\n",
       " (25057, 0.30618621784789724),\n",
       " (25091, 0.30618621784789724),\n",
       " (25157, 0.30618621784789724),\n",
       " (25272, 0.30618621784789724),\n",
       " (25562, 0.30618621784789724),\n",
       " (25670, 0.30618621784789724),\n",
       " (25706, 0.30618621784789724),\n",
       " (25759, 0.30618621784789724),\n",
       " (25825, 0.30618621784789724),\n",
       " (25844, 0.30618621784789724),\n",
       " (919, 0.29814239699997197),\n",
       " (1486, 0.29814239699997197),\n",
       " (1567, 0.29814239699997197),\n",
       " (1622, 0.29814239699997197),\n",
       " (2005, 0.29814239699997197),\n",
       " (6808, 0.29814239699997197),\n",
       " (10921, 0.29814239699997197),\n",
       " (11140, 0.29814239699997197),\n",
       " (11539, 0.29814239699997197),\n",
       " (11780, 0.29814239699997197),\n",
       " (14455, 0.29814239699997197),\n",
       " (17437, 0.29814239699997197),\n",
       " (22571, 0.29814239699997197),\n",
       " (26027, 0.29814239699997197),\n",
       " (18187, 0.2970442628930023),\n",
       " (1109, 0.2886751345948129),\n",
       " (1239, 0.2886751345948129),\n",
       " (1346, 0.2886751345948129),\n",
       " (1503, 0.2886751345948129),\n",
       " (3378, 0.2886751345948129),\n",
       " (4401, 0.2886751345948129),\n",
       " (8053, 0.2886751345948129),\n",
       " (8066, 0.2886751345948129),\n",
       " (9800, 0.2886751345948129),\n",
       " (11752, 0.2886751345948129),\n",
       " (11874, 0.2886751345948129),\n",
       " (12774, 0.2886751345948129),\n",
       " (13159, 0.2886751345948129),\n",
       " (13461, 0.2886751345948129),\n",
       " (15029, 0.2886751345948129),\n",
       " (15376, 0.2886751345948129),\n",
       " (20159, 0.2886751345948129),\n",
       " (20719, 0.2886751345948129),\n",
       " (23545, 0.2886751345948129),\n",
       " (23758, 0.2886751345948129),\n",
       " (24260, 0.2886751345948129),\n",
       " (25150, 0.2886751345948129),\n",
       " (25811, 0.2886751345948129),\n",
       " (25832, 0.2886751345948129),\n",
       " (25995, 0.2886751345948129),\n",
       " (26022, 0.2886751345948129),\n",
       " (263, 0.28867513459481287),\n",
       " (523, 0.28867513459481287),\n",
       " (562, 0.28867513459481287),\n",
       " (648, 0.28867513459481287),\n",
       " (864, 0.28867513459481287),\n",
       " (939, 0.28867513459481287),\n",
       " (1096, 0.28867513459481287),\n",
       " (1291, 0.28867513459481287),\n",
       " (1368, 0.28867513459481287),\n",
       " (1412, 0.28867513459481287),\n",
       " (1535, 0.28867513459481287),\n",
       " (1731, 0.28867513459481287),\n",
       " (1900, 0.28867513459481287),\n",
       " (1998, 0.28867513459481287),\n",
       " (2079, 0.28867513459481287),\n",
       " (2383, 0.28867513459481287),\n",
       " (2406, 0.28867513459481287),\n",
       " (2511, 0.28867513459481287),\n",
       " (2850, 0.28867513459481287),\n",
       " (2881, 0.28867513459481287),\n",
       " (3141, 0.28867513459481287),\n",
       " (3743, 0.28867513459481287),\n",
       " (3753, 0.28867513459481287),\n",
       " (3839, 0.28867513459481287),\n",
       " (3892, 0.28867513459481287),\n",
       " (4160, 0.28867513459481287),\n",
       " (4166, 0.28867513459481287),\n",
       " (4216, 0.28867513459481287),\n",
       " (4244, 0.28867513459481287),\n",
       " (4285, 0.28867513459481287),\n",
       " (4826, 0.28867513459481287),\n",
       " (5353, 0.28867513459481287),\n",
       " (5371, 0.28867513459481287),\n",
       " (5808, 0.28867513459481287),\n",
       " (5891, 0.28867513459481287),\n",
       " (5950, 0.28867513459481287),\n",
       " (6161, 0.28867513459481287),\n",
       " (6197, 0.28867513459481287),\n",
       " (6293, 0.28867513459481287),\n",
       " (6353, 0.28867513459481287),\n",
       " (6379, 0.28867513459481287),\n",
       " (6477, 0.28867513459481287),\n",
       " (6591, 0.28867513459481287),\n",
       " (6722, 0.28867513459481287),\n",
       " (6758, 0.28867513459481287),\n",
       " (6853, 0.28867513459481287),\n",
       " (6890, 0.28867513459481287),\n",
       " (6960, 0.28867513459481287),\n",
       " (7021, 0.28867513459481287),\n",
       " (7143, 0.28867513459481287),\n",
       " (7298, 0.28867513459481287),\n",
       " (7501, 0.28867513459481287),\n",
       " (7553, 0.28867513459481287),\n",
       " (7664, 0.28867513459481287),\n",
       " (7808, 0.28867513459481287),\n",
       " (7936, 0.28867513459481287),\n",
       " (8113, 0.28867513459481287),\n",
       " (8407, 0.28867513459481287),\n",
       " (8415, 0.28867513459481287),\n",
       " (8515, 0.28867513459481287),\n",
       " (8576, 0.28867513459481287),\n",
       " (8644, 0.28867513459481287),\n",
       " (8675, 0.28867513459481287),\n",
       " (8773, 0.28867513459481287),\n",
       " (8857, 0.28867513459481287),\n",
       " (8918, 0.28867513459481287),\n",
       " (9273, 0.28867513459481287),\n",
       " (9326, 0.28867513459481287),\n",
       " (9437, 0.28867513459481287),\n",
       " (9536, 0.28867513459481287),\n",
       " (9686, 0.28867513459481287),\n",
       " (9851, 0.28867513459481287),\n",
       " (9876, 0.28867513459481287),\n",
       " (9896, 0.28867513459481287),\n",
       " (9947, 0.28867513459481287),\n",
       " (10059, 0.28867513459481287),\n",
       " (10425, 0.28867513459481287),\n",
       " (10560, 0.28867513459481287),\n",
       " (10961, 0.28867513459481287),\n",
       " (11175, 0.28867513459481287),\n",
       " (11349, 0.28867513459481287),\n",
       " (11353, 0.28867513459481287),\n",
       " (11914, 0.28867513459481287),\n",
       " (12143, 0.28867513459481287),\n",
       " (12260, 0.28867513459481287),\n",
       " (12279, 0.28867513459481287),\n",
       " (12364, 0.28867513459481287),\n",
       " (12494, 0.28867513459481287),\n",
       " (12509, 0.28867513459481287),\n",
       " (12539, 0.28867513459481287),\n",
       " (12615, 0.28867513459481287),\n",
       " (12687, 0.28867513459481287),\n",
       " (12781, 0.28867513459481287),\n",
       " (12875, 0.28867513459481287),\n",
       " (12963, 0.28867513459481287),\n",
       " (13161, 0.28867513459481287),\n",
       " (13181, 0.28867513459481287),\n",
       " (13275, 0.28867513459481287),\n",
       " (13356, 0.28867513459481287),\n",
       " (13357, 0.28867513459481287),\n",
       " (13818, 0.28867513459481287),\n",
       " (13938, 0.28867513459481287),\n",
       " (13973, 0.28867513459481287),\n",
       " (13987, 0.28867513459481287),\n",
       " (14001, 0.28867513459481287),\n",
       " (14046, 0.28867513459481287),\n",
       " (14106, 0.28867513459481287),\n",
       " (14469, 0.28867513459481287),\n",
       " (14524, 0.28867513459481287),\n",
       " (14526, 0.28867513459481287),\n",
       " (14586, 0.28867513459481287),\n",
       " (14620, 0.28867513459481287),\n",
       " (14692, 0.28867513459481287),\n",
       " (14731, 0.28867513459481287),\n",
       " (14860, 0.28867513459481287),\n",
       " (14963, 0.28867513459481287),\n",
       " (15009, 0.28867513459481287),\n",
       " (15043, 0.28867513459481287),\n",
       " (15059, 0.28867513459481287),\n",
       " (15162, 0.28867513459481287),\n",
       " (15270, 0.28867513459481287),\n",
       " (15381, 0.28867513459481287),\n",
       " (15550, 0.28867513459481287),\n",
       " (16031, 0.28867513459481287),\n",
       " (16094, 0.28867513459481287),\n",
       " (16326, 0.28867513459481287),\n",
       " (16389, 0.28867513459481287),\n",
       " (16497, 0.28867513459481287),\n",
       " (16500, 0.28867513459481287),\n",
       " (16591, 0.28867513459481287),\n",
       " (16620, 0.28867513459481287),\n",
       " (16683, 0.28867513459481287),\n",
       " (16738, 0.28867513459481287),\n",
       " (17008, 0.28867513459481287),\n",
       " (17462, 0.28867513459481287),\n",
       " (17556, 0.28867513459481287),\n",
       " (17774, 0.28867513459481287),\n",
       " (17781, 0.28867513459481287),\n",
       " (17844, 0.28867513459481287),\n",
       " (18003, 0.28867513459481287),\n",
       " (18234, 0.28867513459481287),\n",
       " (18315, 0.28867513459481287),\n",
       " (18321, 0.28867513459481287),\n",
       " (18421, 0.28867513459481287),\n",
       " (18443, 0.28867513459481287),\n",
       " (18506, 0.28867513459481287),\n",
       " (18531, 0.28867513459481287),\n",
       " (18671, 0.28867513459481287),\n",
       " (18694, 0.28867513459481287),\n",
       " (18890, 0.28867513459481287),\n",
       " (19144, 0.28867513459481287),\n",
       " (19394, 0.28867513459481287),\n",
       " (19408, 0.28867513459481287),\n",
       " (19412, 0.28867513459481287),\n",
       " (19728, 0.28867513459481287),\n",
       " (20180, 0.28867513459481287),\n",
       " (20233, 0.28867513459481287),\n",
       " (20271, 0.28867513459481287),\n",
       " (20334, 0.28867513459481287),\n",
       " (20506, 0.28867513459481287),\n",
       " (20674, 0.28867513459481287),\n",
       " (21343, 0.28867513459481287),\n",
       " (21385, 0.28867513459481287),\n",
       " (21501, 0.28867513459481287),\n",
       " (21513, 0.28867513459481287),\n",
       " (21635, 0.28867513459481287),\n",
       " (21775, 0.28867513459481287),\n",
       " (21916, 0.28867513459481287),\n",
       " (21946, 0.28867513459481287),\n",
       " (21952, 0.28867513459481287),\n",
       " (22009, 0.28867513459481287),\n",
       " (22080, 0.28867513459481287),\n",
       " (22096, 0.28867513459481287),\n",
       " (22481, 0.28867513459481287),\n",
       " (22527, 0.28867513459481287),\n",
       " (22691, 0.28867513459481287),\n",
       " (22741, 0.28867513459481287),\n",
       " (22777, 0.28867513459481287),\n",
       " (23402, 0.28867513459481287),\n",
       " (23403, 0.28867513459481287),\n",
       " (23540, 0.28867513459481287),\n",
       " (23884, 0.28867513459481287),\n",
       " (23984, 0.28867513459481287),\n",
       " (24162, 0.28867513459481287),\n",
       " (24335, 0.28867513459481287),\n",
       " (24344, 0.28867513459481287),\n",
       " (24364, 0.28867513459481287),\n",
       " (24380, 0.28867513459481287),\n",
       " (24466, 0.28867513459481287),\n",
       " (24506, 0.28867513459481287),\n",
       " (24603, 0.28867513459481287),\n",
       " (24949, 0.28867513459481287),\n",
       " (24971, 0.28867513459481287),\n",
       " (25247, 0.28867513459481287),\n",
       " (25553, 0.28867513459481287),\n",
       " (25592, 0.28867513459481287),\n",
       " (25675, 0.28867513459481287),\n",
       " (25704, 0.28867513459481287),\n",
       " (25794, 0.28867513459481287),\n",
       " (25904, 0.28867513459481287),\n",
       " (371, 0.280056016805602),\n",
       " (507, 0.280056016805602),\n",
       " (617, 0.280056016805602),\n",
       " (658, 0.280056016805602),\n",
       " (694, 0.280056016805602),\n",
       " (701, 0.280056016805602),\n",
       " (818, 0.280056016805602),\n",
       " (921, 0.280056016805602),\n",
       " (986, 0.280056016805602),\n",
       " (1073, 0.280056016805602),\n",
       " (1129, 0.280056016805602),\n",
       " (1160, 0.280056016805602),\n",
       " (1167, 0.280056016805602),\n",
       " (1258, 0.280056016805602),\n",
       " (1317, 0.280056016805602),\n",
       " (1355, 0.280056016805602),\n",
       " (1462, 0.280056016805602),\n",
       " (1616, 0.280056016805602),\n",
       " (1671, 0.280056016805602),\n",
       " (1678, 0.280056016805602),\n",
       " (1686, 0.280056016805602),\n",
       " (1690, 0.280056016805602),\n",
       " (1725, 0.280056016805602),\n",
       " (1744, 0.280056016805602),\n",
       " (1776, 0.280056016805602),\n",
       " (1797, 0.280056016805602),\n",
       " (1803, 0.280056016805602),\n",
       " (1817, 0.280056016805602),\n",
       " (1897, 0.280056016805602),\n",
       " (1906, 0.280056016805602),\n",
       " (1916, 0.280056016805602),\n",
       " (2012, 0.280056016805602),\n",
       " (2066, 0.280056016805602),\n",
       " (2089, 0.280056016805602),\n",
       " (13152, 0.280056016805602),\n",
       " (14303, 0.280056016805602),\n",
       " (15525, 0.280056016805602),\n",
       " (17135, 0.280056016805602),\n",
       " (17322, 0.280056016805602),\n",
       " (18360, 0.280056016805602),\n",
       " (20473, 0.280056016805602),\n",
       " (22294, 0.280056016805602),\n",
       " (22694, 0.280056016805602),\n",
       " (23078, 0.280056016805602),\n",
       " (98, 0.27386127875258315),\n",
       " (319, 0.27386127875258315),\n",
       " (337, 0.27386127875258315),\n",
       " (467, 0.27386127875258315),\n",
       " (509, 0.27386127875258315),\n",
       " (563, 0.27386127875258315),\n",
       " (781, 0.27386127875258315),\n",
       " (854, 0.27386127875258315),\n",
       " (1034, 0.27386127875258315),\n",
       " (1068, 0.27386127875258315),\n",
       " (1095, 0.27386127875258315),\n",
       " (1163, 0.27386127875258315),\n",
       " (1212, 0.27386127875258315),\n",
       " (1315, 0.27386127875258315),\n",
       " (1417, 0.27386127875258315),\n",
       " (1514, 0.27386127875258315),\n",
       " (1804, 0.27386127875258315),\n",
       " (1861, 0.27386127875258315),\n",
       " (1997, 0.27386127875258315),\n",
       " (2009, 0.27386127875258315),\n",
       " (2408, 0.27386127875258315),\n",
       " (2435, 0.27386127875258315),\n",
       " (2502, 0.27386127875258315),\n",
       " (2618, 0.27386127875258315),\n",
       " (2826, 0.27386127875258315),\n",
       " (2860, 0.27386127875258315),\n",
       " (3054, 0.27386127875258315),\n",
       " (3126, 0.27386127875258315),\n",
       " (3131, 0.27386127875258315),\n",
       " (3137, 0.27386127875258315),\n",
       " (3510, 0.27386127875258315),\n",
       " (3755, 0.27386127875258315),\n",
       " (3811, 0.27386127875258315),\n",
       " (3881, 0.27386127875258315),\n",
       " (3940, 0.27386127875258315),\n",
       " (4230, 0.27386127875258315),\n",
       " (4378, 0.27386127875258315),\n",
       " (4767, 0.27386127875258315),\n",
       " (4846, 0.27386127875258315),\n",
       " (4870, 0.27386127875258315),\n",
       " (5072, 0.27386127875258315),\n",
       " (5127, 0.27386127875258315),\n",
       " (5144, 0.27386127875258315),\n",
       " (5733, 0.27386127875258315),\n",
       " (5954, 0.27386127875258315),\n",
       " (6150, 0.27386127875258315),\n",
       " (6356, 0.27386127875258315),\n",
       " (6372, 0.27386127875258315),\n",
       " (6507, 0.27386127875258315),\n",
       " (6770, 0.27386127875258315),\n",
       " (6933, 0.27386127875258315),\n",
       " (6958, 0.27386127875258315),\n",
       " (6962, 0.27386127875258315),\n",
       " (7137, 0.27386127875258315),\n",
       " (7148, 0.27386127875258315),\n",
       " (7222, 0.27386127875258315),\n",
       " (7232, 0.27386127875258315),\n",
       " (7587, 0.27386127875258315),\n",
       " (8138, 0.27386127875258315),\n",
       " (8206, 0.27386127875258315),\n",
       " (8418, 0.27386127875258315),\n",
       " (8695, 0.27386127875258315),\n",
       " (8712, 0.27386127875258315),\n",
       " (8719, 0.27386127875258315),\n",
       " (8735, 0.27386127875258315),\n",
       " (8754, 0.27386127875258315),\n",
       " (8879, 0.27386127875258315),\n",
       " (8958, 0.27386127875258315),\n",
       " (9296, 0.27386127875258315),\n",
       " (9585, 0.27386127875258315),\n",
       " (9650, 0.27386127875258315),\n",
       " (9709, 0.27386127875258315),\n",
       " (10109, 0.27386127875258315),\n",
       " (10131, 0.27386127875258315),\n",
       " (10275, 0.27386127875258315),\n",
       " (10416, 0.27386127875258315),\n",
       " (10438, 0.27386127875258315),\n",
       " (10502, 0.27386127875258315),\n",
       " (10626, 0.27386127875258315),\n",
       " (10753, 0.27386127875258315),\n",
       " (11309, 0.27386127875258315),\n",
       " (11590, 0.27386127875258315),\n",
       " (11670, 0.27386127875258315),\n",
       " (11803, 0.27386127875258315),\n",
       " (12129, 0.27386127875258315),\n",
       " (12322, 0.27386127875258315),\n",
       " (12369, 0.27386127875258315),\n",
       " (12473, 0.27386127875258315),\n",
       " (12547, 0.27386127875258315),\n",
       " (12611, 0.27386127875258315),\n",
       " (12671, 0.27386127875258315),\n",
       " (12692, 0.27386127875258315),\n",
       " (12800, 0.27386127875258315),\n",
       " (13037, 0.27386127875258315),\n",
       " (13221, 0.27386127875258315),\n",
       " (13320, 0.27386127875258315),\n",
       " (13325, 0.27386127875258315),\n",
       " (13404, 0.27386127875258315),\n",
       " (13427, 0.27386127875258315),\n",
       " (13458, 0.27386127875258315),\n",
       " (13552, 0.27386127875258315),\n",
       " (13646, 0.27386127875258315),\n",
       " (13739, 0.27386127875258315),\n",
       " (13819, 0.27386127875258315),\n",
       " (13942, 0.27386127875258315),\n",
       " (13997, 0.27386127875258315),\n",
       " (14085, 0.27386127875258315),\n",
       " (14470, 0.27386127875258315),\n",
       " (14679, 0.27386127875258315),\n",
       " (14825, 0.27386127875258315),\n",
       " (14926, 0.27386127875258315),\n",
       " (15328, 0.27386127875258315),\n",
       " (15349, 0.27386127875258315),\n",
       " (15533, 0.27386127875258315),\n",
       " (15546, 0.27386127875258315),\n",
       " ...]"
      ]
     },
     "execution_count": 55,
     "metadata": {},
     "output_type": "execute_result"
    }
   ],
   "source": [
    "# sorting on the basis of second value.\n",
    "sorted(list(enumerate(Similarity[0])), reverse = True, key = lambda x:x[1])"
   ]
  },
  {
   "cell_type": "code",
   "execution_count": 56,
   "id": "e09404b3",
   "metadata": {},
   "outputs": [
    {
     "data": {
      "text/plain": [
       "[(0, 1.0000000000000002),\n",
       " (426, 0.957427107756338),\n",
       " (11, 0.8215838362577492),\n",
       " (344, 0.8215838362577492),\n",
       " (357, 0.8215838362577492),\n",
       " (26002, 0.7833494518006402)]"
      ]
     },
     "execution_count": 56,
     "metadata": {},
     "output_type": "execute_result"
    }
   ],
   "source": [
    "sorted(list(enumerate(Similarity[0])), reverse = True, key = lambda x:x[1])[0:6]"
   ]
  },
  {
   "cell_type": "code",
   "execution_count": 57,
   "id": "962ffbc9",
   "metadata": {},
   "outputs": [
    {
     "data": {
      "text/plain": [
       "0"
      ]
     },
     "execution_count": 57,
     "metadata": {},
     "output_type": "execute_result"
    }
   ],
   "source": [
    "Data[Data[\"asin\"] == \"B004GSI2OS\"].index[0]"
   ]
  },
  {
   "cell_type": "code",
   "execution_count": 58,
   "id": "9ec33721",
   "metadata": {},
   "outputs": [],
   "source": [
    "import requests\n",
    "from PIL import Image\n",
    "from io import BytesIO\n",
    "import matplotlib.pyplot as plt"
   ]
  },
  {
   "cell_type": "code",
   "execution_count": 59,
   "id": "a7e51cff",
   "metadata": {},
   "outputs": [],
   "source": [
    "def Recommendation(top):\n",
    "    top_index = Data[Data[\"asin\"] == top].index[0]   # extractin the index of a tops\n",
    "    Distance = Similarity[top_index]  # extracting the similary of that tops with other tops based on the index\n",
    "    Top_5_top = sorted(list(enumerate(Distance)), reverse = True, key = lambda x:x[1])[0:6]  # extracting the top five tops based on the distance\n",
    "    \n",
    "    \n",
    "    #the top_5_movies will contain tuple of tops id and distace 0, 1.0000000000000002) check above\n",
    "    image_list = []\n",
    "    Asin_id = []\n",
    "    for tup_top in Top_5_top:\n",
    "        image_url = Data.iloc[tup_top[0]].medium_image_url\n",
    "        Asin_id.append(str(Data.iloc[tup_top[0]].asin))\n",
    "        response = requests.get(image_url)\n",
    "        img = Image.open(BytesIO(response.content))\n",
    "        image_list.append(img)\n",
    "    fig = plt.figure(figsize=(10, 7))\n",
    "    row = 2\n",
    "    column = 3\n",
    "    print(Asin_id)\n",
    "    for x in range(0,5):\n",
    "        fig.add_subplot(row,column, x+1)\n",
    "\n",
    "        plt.title(Asin_id[x])\n",
    "        plt.imshow(image_list[x])"
   ]
  },
  {
   "cell_type": "code",
   "execution_count": 60,
   "id": "6fdd0cc3",
   "metadata": {},
   "outputs": [
    {
     "name": "stdout",
     "output_type": "stream",
     "text": [
      "['B004GSI2OS', 'B004GSN1EE', 'B003BTPVGA', 'B003BTL8EY', 'B003BTOFOE', 'B00139HZFU']\n"
     ]
    },
    {
     "data": {
      "image/png": "[encoded data removed]",
      "text/plain": [
       "<Figure size 720x504 with 5 Axes>"
      ]
     },
     "metadata": {
      "needs_background": "light"
     },
     "output_type": "display_data"
    }
   ],
   "source": [
    "Recommendation(\"B004GSI2OS\")"
   ]
  },
  {
   "cell_type": "code",
   "execution_count": 63,
   "id": "1347f508",
   "metadata": {},
   "outputs": [
    {
     "data": {
      "text/html": [
       "<div>\n",
       "<style scoped>\n",
       "    .dataframe tbody tr th:only-of-type {\n",
       "        vertical-align: middle;\n",
       "    }\n",
       "\n",
       "    .dataframe tbody tr th {\n",
       "        vertical-align: top;\n",
       "    }\n",
       "\n",
       "    .dataframe thead th {\n",
       "        text-align: right;\n",
       "    }\n",
       "</style>\n",
       "<table border=\"1\" class=\"dataframe\">\n",
       "  <thead>\n",
       "    <tr style=\"text-align: right;\">\n",
       "      <th></th>\n",
       "      <th>Unnamed: 0</th>\n",
       "      <th>asin</th>\n",
       "      <th>brand</th>\n",
       "      <th>color</th>\n",
       "      <th>medium_image_url</th>\n",
       "      <th>product_type_name</th>\n",
       "      <th>title</th>\n",
       "      <th>formatted_price</th>\n",
       "    </tr>\n",
       "  </thead>\n",
       "  <tbody>\n",
       "    <tr>\n",
       "      <th>0</th>\n",
       "      <td>0</td>\n",
       "      <td>B004GSI2OS</td>\n",
       "      <td>FeatherLite</td>\n",
       "      <td>Onyx Black/ Stone</td>\n",
       "      <td>https://images-na.ssl-images-amazon.com/images...</td>\n",
       "      <td>SHIRT</td>\n",
       "      <td>featherlite ladies long sleeve stain resistant...</td>\n",
       "      <td>$26.26</td>\n",
       "    </tr>\n",
       "    <tr>\n",
       "      <th>1</th>\n",
       "      <td>1</td>\n",
       "      <td>B012YX2ZPI</td>\n",
       "      <td>HX-Kingdom Fashion T-shirts</td>\n",
       "      <td>White</td>\n",
       "      <td>https://images-na.ssl-images-amazon.com/images...</td>\n",
       "      <td>SHIRT</td>\n",
       "      <td>women unique cotton special olympics world gam...</td>\n",
       "      <td>$9.99</td>\n",
       "    </tr>\n",
       "  </tbody>\n",
       "</table>\n",
       "</div>"
      ],
      "text/plain": [
       "   Unnamed: 0        asin                        brand              color  \\\n",
       "0           0  B004GSI2OS                  FeatherLite  Onyx Black/ Stone   \n",
       "1           1  B012YX2ZPI  HX-Kingdom Fashion T-shirts              White   \n",
       "\n",
       "                                    medium_image_url product_type_name  \\\n",
       "0  https://images-na.ssl-images-amazon.com/images...             SHIRT   \n",
       "1  https://images-na.ssl-images-amazon.com/images...             SHIRT   \n",
       "\n",
       "                                               title formatted_price  \n",
       "0  featherlite ladies long sleeve stain resistant...          $26.26  \n",
       "1  women unique cotton special olympics world gam...           $9.99  "
      ]
     },
     "execution_count": 63,
     "metadata": {},
     "output_type": "execute_result"
    }
   ],
   "source": [
    "Df = pd.read_csv(\"cleand_top_amzn_data.csv\")\n",
    "Df.head(2)"
   ]
  },
  {
   "cell_type": "code",
   "execution_count": 66,
   "id": "61ca22a0",
   "metadata": {},
   "outputs": [
    {
     "data": {
      "text/html": [
       "<div>\n",
       "<style scoped>\n",
       "    .dataframe tbody tr th:only-of-type {\n",
       "        vertical-align: middle;\n",
       "    }\n",
       "\n",
       "    .dataframe tbody tr th {\n",
       "        vertical-align: top;\n",
       "    }\n",
       "\n",
       "    .dataframe thead th {\n",
       "        text-align: right;\n",
       "    }\n",
       "</style>\n",
       "<table border=\"1\" class=\"dataframe\">\n",
       "  <thead>\n",
       "    <tr style=\"text-align: right;\">\n",
       "      <th></th>\n",
       "      <th>asin</th>\n",
       "      <th>title</th>\n",
       "      <th>medium_image_url</th>\n",
       "    </tr>\n",
       "  </thead>\n",
       "  <tbody>\n",
       "    <tr>\n",
       "      <th>0</th>\n",
       "      <td>B004GSI2OS</td>\n",
       "      <td>featherlite ladies long sleeve stain resistant...</td>\n",
       "      <td>https://images-na.ssl-images-amazon.com/images...</td>\n",
       "    </tr>\n",
       "    <tr>\n",
       "      <th>1</th>\n",
       "      <td>B012YX2ZPI</td>\n",
       "      <td>women unique cotton special olympics world gam...</td>\n",
       "      <td>https://images-na.ssl-images-amazon.com/images...</td>\n",
       "    </tr>\n",
       "  </tbody>\n",
       "</table>\n",
       "</div>"
      ],
      "text/plain": [
       "         asin                                              title  \\\n",
       "0  B004GSI2OS  featherlite ladies long sleeve stain resistant...   \n",
       "1  B012YX2ZPI  women unique cotton special olympics world gam...   \n",
       "\n",
       "                                    medium_image_url  \n",
       "0  https://images-na.ssl-images-amazon.com/images...  \n",
       "1  https://images-na.ssl-images-amazon.com/images...  "
      ]
     },
     "execution_count": 66,
     "metadata": {},
     "output_type": "execute_result"
    }
   ],
   "source": [
    "Df = Df[[\"asin\",\"title\",\"medium_image_url\"]]\n",
    "Df.head(2)"
   ]
  },
  {
   "cell_type": "code",
   "execution_count": 67,
   "id": "6221d61e",
   "metadata": {},
   "outputs": [
    {
     "data": {
      "text/plain": [
       "(26060, 10053)"
      ]
     },
     "execution_count": 67,
     "metadata": {},
     "output_type": "execute_result"
    }
   ],
   "source": [
    "from sklearn.feature_extraction.text import TfidfVectorizer\n",
    "Tf_title_vectorizer = TfidfVectorizer()\n",
    "Vector_2   = Tf_title_vectorizer.fit_transform(Df['title'])\n",
    "Vector_2.get_shape() "
   ]
  },
  {
   "cell_type": "code",
   "execution_count": 72,
   "id": "28c94865",
   "metadata": {},
   "outputs": [],
   "source": [
    "from sklearn.metrics.pairwise import cosine_similarity\n",
    "Similarity_2 = cosine_similarity(Vector_2)"
   ]
  },
  {
   "cell_type": "code",
   "execution_count": 73,
   "id": "f7fc6538",
   "metadata": {},
   "outputs": [
    {
     "data": {
      "text/plain": [
       "[(0, 1.0000000000000002),\n",
       " (426, 0.9451985618930471),\n",
       " (357, 0.7910810441177379),\n",
       " (11, 0.7565584531123802),\n",
       " (344, 0.721211707886179),\n",
       " (26002, 0.7155831457499747)]"
      ]
     },
     "execution_count": 73,
     "metadata": {},
     "output_type": "execute_result"
    }
   ],
   "source": [
    "sorted(list(enumerate(Similarity_2[0])), reverse = True, key = lambda x:x[1])[0:6]"
   ]
  },
  {
   "cell_type": "code",
   "execution_count": 74,
   "id": "3ec27bbe",
   "metadata": {},
   "outputs": [],
   "source": [
    "def Recommendation(top):\n",
    "    top_index = Df[Df[\"asin\"] == top].index[0]   # extractin the index of a tops\n",
    "    Distance = Similarity_2[top_index]  # extracting the similary of that tops with other tops based on the index\n",
    "    Top_5_top = sorted(list(enumerate(Distance)), reverse = True, key = lambda x:x[1])[0:6]  # extracting the top five tops based on the distance\n",
    "    \n",
    "    \n",
    "    #the top_5_movies will contain tuple of tops id and distace 0, 1.0000000000000002) check above\n",
    "    image_list = []\n",
    "    Asin_id = []\n",
    "    for tup_top in Top_5_top:\n",
    "        image_url = Df.iloc[tup_top[0]].medium_image_url\n",
    "        Asin_id.append(str(Df.iloc[tup_top[0]].asin))\n",
    "        response = requests.get(image_url)\n",
    "        img = Image.open(BytesIO(response.content))\n",
    "        image_list.append(img)\n",
    "    fig = plt.figure(figsize=(10, 7))\n",
    "    row = 2\n",
    "    column = 3\n",
    "    print(Asin_id)\n",
    "    for x in range(0,5):\n",
    "        fig.add_subplot(row,column, x+1)\n",
    "\n",
    "        plt.title(Asin_id[x])\n",
    "        plt.imshow(image_list[x])"
   ]
  },
  {
   "cell_type": "code",
   "execution_count": 76,
   "id": "c73124f0",
   "metadata": {},
   "outputs": [
    {
     "name": "stdout",
     "output_type": "stream",
     "text": [
      "['B00JXQB7IQ', 'B00JXQB9S4', 'B00JXQB5FQ', 'B00JXQAKWU', 'B00JXQAPZM', 'B00JXQANA4']\n"
     ]
    },
    {
     "data": {
      "image/png": "[encoded data removed]",
      "text/plain": [
       "<Figure size 720x504 with 5 Axes>"
      ]
     },
     "metadata": {
      "needs_background": "light"
     },
     "output_type": "display_data"
    }
   ],
   "source": [
    "Recommendation(\"B00JXQB5FQ\")"
   ]
  },
  {
   "cell_type": "code",
   "execution_count": null,
   "id": "c3323000",
   "metadata": {},
   "outputs": [],
   "source": []
  }
 ],
 "metadata": {
  "kernelspec": {
   "display_name": "Python 3 (ipykernel)",
   "language": "python",
   "name": "python3"
  },
  "language_info": {
   "codemirror_mode": {
    "name": "ipython",
    "version": 3
   },
   "file_extension": ".py",
   "mimetype": "text/x-python",
   "name": "python",
   "nbconvert_exporter": "python",
   "pygments_lexer": "ipython3",
   "version": "3.9.7"
  }
 },
 "nbformat": 4,
 "nbformat_minor": 5
}
